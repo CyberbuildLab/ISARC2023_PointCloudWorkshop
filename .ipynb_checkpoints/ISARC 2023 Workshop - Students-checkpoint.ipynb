{
 "cells": [
  {
   "cell_type": "markdown",
   "metadata": {
    "id": "kk9-VfLFvlyM"
   },
   "source": [
    "# USING PYTHON FOR POINT CLOUD PROCESSING\n",
    "\n",
    "This Jupyter Notebook will enable you to go through many, often fundamental steps in the processing of point clouds, particularly in the context of their use in the Built Environment context, such as Scan-to-BIM and Scan-vs-BIM applications.\n",
    "\n",
    "The Jupyter Notebook is organised in 11 sections:\n",
    "1. Environment Setup\n",
    "2. Load Files (e.g. point clouds) to be processed\n",
    "3. Visualize point cloud\n",
    "4. Down-sample point cloud\n",
    "5. Calculate point normals\n",
    "6. Extract planes or patches\n",
    "7. Classify patches\n",
    "8. Extract edges\n",
    "9. Save results\n",
    "10. Scan-vs-BIM (colour-coding based on point-mesh proximity)\n",
    "11. Point Cloud Semantic Segmentation using Machine Learning (required Google Colab)\n",
    "\n",
    "The Jupyter Notebook will sometimes simply give you the code to run. But, in other times, it will only give you the main function that must be employed and you then have to work out how to use (e.g. identify the necessary input and possibly format it as necessary).\n",
    "\n",
    "The Notebooks can be run with Jupyter Notebook (e.g. through Anaconda) except for Section 11. It can otherwise be run with Google Colab. The cells specific to Google Colab (e.g. to load data from Google Drive in Google Colab) are highlighted."
   ]
  },
  {
   "cell_type": "markdown",
   "metadata": {
    "id": "OXb69AUQp-Si"
   },
   "source": [
    "# 1 Environment Setup\n",
    "\n",
    "The first thing to do when starting a Python project is to \"set up\" the environment. This includes importing all the libraries that you will need for your project.\n",
    "\n",
    "Note that Python has a vibrant community that embraces free open source code development and sharing. As a result there are many many libraries are available for you to make use of instead of trying to reinvite the wheel.\n",
    "\n",
    "Note that if libraries are not already available in your system, you will need to install them first.\n",
    "So, the code below is split into two steps:\n",
    " - Install libraries\n",
    " - Import libraries."
   ]
  },
  {
   "cell_type": "code",
   "execution_count": 1,
   "metadata": {
    "id": "hr0FqPHy0wj_"
   },
   "outputs": [
    {
     "name": "stdout",
     "output_type": "stream",
     "text": [
      "Installing Open3D library\n",
      "Requirement already satisfied: open3d in c:\\programdata\\anaconda3\\lib\\site-packages (0.18.0)\n",
      "Requirement already satisfied: numpy>=1.18.0 in c:\\programdata\\anaconda3\\lib\\site-packages (from open3d) (1.24.3)\n",
      "Requirement already satisfied: dash>=2.6.0 in c:\\programdata\\anaconda3\\lib\\site-packages (from open3d) (2.15.0)\n",
      "Requirement already satisfied: werkzeug>=2.2.3 in c:\\programdata\\anaconda3\\lib\\site-packages (from open3d) (2.2.3)\n",
      "Requirement already satisfied: nbformat>=5.7.0 in c:\\programdata\\anaconda3\\lib\\site-packages (from open3d) (5.7.0)\n",
      "Requirement already satisfied: configargparse in c:\\programdata\\anaconda3\\lib\\site-packages (from open3d) (1.7)\n",
      "Requirement already satisfied: ipywidgets>=8.0.4 in c:\\programdata\\anaconda3\\lib\\site-packages (from open3d) (8.0.4)\n",
      "Requirement already satisfied: Flask<3.1,>=1.0.4 in c:\\programdata\\anaconda3\\lib\\site-packages (from dash>=2.6.0->open3d) (2.2.2)\n",
      "Requirement already satisfied: plotly>=5.0.0 in c:\\programdata\\anaconda3\\lib\\site-packages (from dash>=2.6.0->open3d) (5.9.0)\n",
      "Requirement already satisfied: dash-html-components==2.0.0 in c:\\programdata\\anaconda3\\lib\\site-packages (from dash>=2.6.0->open3d) (2.0.0)\n",
      "Requirement already satisfied: dash-core-components==2.0.0 in c:\\programdata\\anaconda3\\lib\\site-packages (from dash>=2.6.0->open3d) (2.0.0)\n",
      "Requirement already satisfied: dash-table==5.0.0 in c:\\programdata\\anaconda3\\lib\\site-packages (from dash>=2.6.0->open3d) (5.0.0)\n",
      "Requirement already satisfied: typing-extensions>=4.1.1 in c:\\programdata\\anaconda3\\lib\\site-packages (from dash>=2.6.0->open3d) (4.7.1)\n",
      "Requirement already satisfied: requests in c:\\programdata\\anaconda3\\lib\\site-packages (from dash>=2.6.0->open3d) (2.31.0)\n",
      "Requirement already satisfied: retrying in c:\\programdata\\anaconda3\\lib\\site-packages (from dash>=2.6.0->open3d) (1.3.4)\n",
      "Requirement already satisfied: nest-asyncio in c:\\programdata\\anaconda3\\lib\\site-packages (from dash>=2.6.0->open3d) (1.5.6)\n",
      "Requirement already satisfied: setuptools in c:\\programdata\\anaconda3\\lib\\site-packages (from dash>=2.6.0->open3d) (68.0.0)\n",
      "Requirement already satisfied: importlib-metadata in c:\\programdata\\anaconda3\\lib\\site-packages (from dash>=2.6.0->open3d) (6.0.0)\n",
      "Requirement already satisfied: ipykernel>=4.5.1 in c:\\programdata\\anaconda3\\lib\\site-packages (from ipywidgets>=8.0.4->open3d) (6.19.2)\n",
      "Requirement already satisfied: ipython>=6.1.0 in c:\\programdata\\anaconda3\\lib\\site-packages (from ipywidgets>=8.0.4->open3d) (8.12.0)\n",
      "Requirement already satisfied: traitlets>=4.3.1 in c:\\programdata\\anaconda3\\lib\\site-packages (from ipywidgets>=8.0.4->open3d) (5.7.1)\n",
      "Requirement already satisfied: widgetsnbextension~=4.0 in c:\\programdata\\anaconda3\\lib\\site-packages (from ipywidgets>=8.0.4->open3d) (4.0.5)\n",
      "Requirement already satisfied: jupyterlab-widgets~=3.0 in c:\\programdata\\anaconda3\\lib\\site-packages (from ipywidgets>=8.0.4->open3d) (3.0.5)\n",
      "Requirement already satisfied: fastjsonschema in c:\\programdata\\anaconda3\\lib\\site-packages (from nbformat>=5.7.0->open3d) (2.16.2)\n",
      "Requirement already satisfied: jsonschema>=2.6 in c:\\programdata\\anaconda3\\lib\\site-packages (from nbformat>=5.7.0->open3d) (4.17.3)\n",
      "Requirement already satisfied: jupyter-core in c:\\programdata\\anaconda3\\lib\\site-packages (from nbformat>=5.7.0->open3d) (5.3.0)\n",
      "Requirement already satisfied: MarkupSafe>=2.1.1 in c:\\programdata\\anaconda3\\lib\\site-packages (from werkzeug>=2.2.3->open3d) (2.1.1)\n",
      "Requirement already satisfied: Jinja2>=3.0 in c:\\programdata\\anaconda3\\lib\\site-packages (from Flask<3.1,>=1.0.4->dash>=2.6.0->open3d) (3.1.2)\n",
      "Requirement already satisfied: itsdangerous>=2.0 in c:\\programdata\\anaconda3\\lib\\site-packages (from Flask<3.1,>=1.0.4->dash>=2.6.0->open3d) (2.0.1)\n",
      "Requirement already satisfied: click>=8.0 in c:\\programdata\\anaconda3\\lib\\site-packages (from Flask<3.1,>=1.0.4->dash>=2.6.0->open3d) (8.0.4)\n",
      "Requirement already satisfied: comm>=0.1.1 in c:\\programdata\\anaconda3\\lib\\site-packages (from ipykernel>=4.5.1->ipywidgets>=8.0.4->open3d) (0.1.2)\n",
      "Requirement already satisfied: debugpy>=1.0 in c:\\programdata\\anaconda3\\lib\\site-packages (from ipykernel>=4.5.1->ipywidgets>=8.0.4->open3d) (1.6.7)\n",
      "Requirement already satisfied: jupyter-client>=6.1.12 in c:\\programdata\\anaconda3\\lib\\site-packages (from ipykernel>=4.5.1->ipywidgets>=8.0.4->open3d) (7.4.9)\n",
      "Requirement already satisfied: matplotlib-inline>=0.1 in c:\\programdata\\anaconda3\\lib\\site-packages (from ipykernel>=4.5.1->ipywidgets>=8.0.4->open3d) (0.1.6)\n",
      "Requirement already satisfied: packaging in c:\\programdata\\anaconda3\\lib\\site-packages (from ipykernel>=4.5.1->ipywidgets>=8.0.4->open3d) (23.0)\n",
      "Requirement already satisfied: psutil in c:\\programdata\\anaconda3\\lib\\site-packages (from ipykernel>=4.5.1->ipywidgets>=8.0.4->open3d) (5.9.0)\n",
      "Requirement already satisfied: pyzmq>=17 in c:\\programdata\\anaconda3\\lib\\site-packages (from ipykernel>=4.5.1->ipywidgets>=8.0.4->open3d) (23.2.0)\n",
      "Requirement already satisfied: tornado>=6.1 in c:\\programdata\\anaconda3\\lib\\site-packages (from ipykernel>=4.5.1->ipywidgets>=8.0.4->open3d) (6.3.2)\n",
      "Requirement already satisfied: backcall in c:\\programdata\\anaconda3\\lib\\site-packages (from ipython>=6.1.0->ipywidgets>=8.0.4->open3d) (0.2.0)\n",
      "Requirement already satisfied: decorator in c:\\programdata\\anaconda3\\lib\\site-packages (from ipython>=6.1.0->ipywidgets>=8.0.4->open3d) (5.1.1)\n",
      "Requirement already satisfied: jedi>=0.16 in c:\\programdata\\anaconda3\\lib\\site-packages (from ipython>=6.1.0->ipywidgets>=8.0.4->open3d) (0.18.1)\n",
      "Requirement already satisfied: pickleshare in c:\\programdata\\anaconda3\\lib\\site-packages (from ipython>=6.1.0->ipywidgets>=8.0.4->open3d) (0.7.5)\n",
      "Requirement already satisfied: prompt-toolkit!=3.0.37,<3.1.0,>=3.0.30 in c:\\programdata\\anaconda3\\lib\\site-packages (from ipython>=6.1.0->ipywidgets>=8.0.4->open3d) (3.0.36)\n",
      "Requirement already satisfied: pygments>=2.4.0 in c:\\programdata\\anaconda3\\lib\\site-packages (from ipython>=6.1.0->ipywidgets>=8.0.4->open3d) (2.15.1)\n",
      "Requirement already satisfied: stack-data in c:\\programdata\\anaconda3\\lib\\site-packages (from ipython>=6.1.0->ipywidgets>=8.0.4->open3d) (0.2.0)\n",
      "Requirement already satisfied: colorama in c:\\programdata\\anaconda3\\lib\\site-packages (from ipython>=6.1.0->ipywidgets>=8.0.4->open3d) (0.4.6)\n",
      "Requirement already satisfied: attrs>=17.4.0 in c:\\programdata\\anaconda3\\lib\\site-packages (from jsonschema>=2.6->nbformat>=5.7.0->open3d) (22.1.0)\n",
      "Requirement already satisfied: pyrsistent!=0.17.0,!=0.17.1,!=0.17.2,>=0.14.0 in c:\\programdata\\anaconda3\\lib\\site-packages (from jsonschema>=2.6->nbformat>=5.7.0->open3d) (0.18.0)\n",
      "Requirement already satisfied: tenacity>=6.2.0 in c:\\programdata\\anaconda3\\lib\\site-packages (from plotly>=5.0.0->dash>=2.6.0->open3d) (8.2.2)\n",
      "Requirement already satisfied: zipp>=0.5 in c:\\programdata\\anaconda3\\lib\\site-packages (from importlib-metadata->dash>=2.6.0->open3d) (3.11.0)\n",
      "Requirement already satisfied: platformdirs>=2.5 in c:\\programdata\\anaconda3\\lib\\site-packages (from jupyter-core->nbformat>=5.7.0->open3d) (2.5.2)\n",
      "Requirement already satisfied: pywin32>=300 in c:\\programdata\\anaconda3\\lib\\site-packages (from jupyter-core->nbformat>=5.7.0->open3d) (305.1)\n",
      "Requirement already satisfied: charset-normalizer<4,>=2 in c:\\programdata\\anaconda3\\lib\\site-packages (from requests->dash>=2.6.0->open3d) (2.0.4)\n",
      "Requirement already satisfied: idna<4,>=2.5 in c:\\programdata\\anaconda3\\lib\\site-packages (from requests->dash>=2.6.0->open3d) (3.4)\n",
      "Requirement already satisfied: urllib3<3,>=1.21.1 in c:\\programdata\\anaconda3\\lib\\site-packages (from requests->dash>=2.6.0->open3d) (1.26.16)\n",
      "Requirement already satisfied: certifi>=2017.4.17 in c:\\programdata\\anaconda3\\lib\\site-packages (from requests->dash>=2.6.0->open3d) (2024.2.2)\n",
      "Requirement already satisfied: six>=1.7.0 in c:\\programdata\\anaconda3\\lib\\site-packages (from retrying->dash>=2.6.0->open3d) (1.16.0)\n",
      "Requirement already satisfied: parso<0.9.0,>=0.8.0 in c:\\programdata\\anaconda3\\lib\\site-packages (from jedi>=0.16->ipython>=6.1.0->ipywidgets>=8.0.4->open3d) (0.8.3)\n",
      "Requirement already satisfied: entrypoints in c:\\programdata\\anaconda3\\lib\\site-packages (from jupyter-client>=6.1.12->ipykernel>=4.5.1->ipywidgets>=8.0.4->open3d) (0.4)\n",
      "Requirement already satisfied: python-dateutil>=2.8.2 in c:\\programdata\\anaconda3\\lib\\site-packages (from jupyter-client>=6.1.12->ipykernel>=4.5.1->ipywidgets>=8.0.4->open3d) (2.8.2)\n",
      "Requirement already satisfied: wcwidth in c:\\programdata\\anaconda3\\lib\\site-packages (from prompt-toolkit!=3.0.37,<3.1.0,>=3.0.30->ipython>=6.1.0->ipywidgets>=8.0.4->open3d) (0.2.5)\n",
      "Requirement already satisfied: executing in c:\\programdata\\anaconda3\\lib\\site-packages (from stack-data->ipython>=6.1.0->ipywidgets>=8.0.4->open3d) (0.8.3)\n",
      "Requirement already satisfied: asttokens in c:\\programdata\\anaconda3\\lib\\site-packages (from stack-data->ipython>=6.1.0->ipywidgets>=8.0.4->open3d) (2.0.5)\n",
      "Requirement already satisfied: pure-eval in c:\\programdata\\anaconda3\\lib\\site-packages (from stack-data->ipython>=6.1.0->ipywidgets>=8.0.4->open3d) (0.2.2)\n"
     ]
    }
   ],
   "source": [
    "print(\"Installing Open3D library\")\n",
    "\n",
    "!pip install open3d"
   ]
  },
  {
   "cell_type": "code",
   "execution_count": null,
   "metadata": {},
   "outputs": [],
   "source": [
    "# Run if using Google Colab\n",
    "import os\n",
    "assert int(os.environ['COLAB_GPU'])==1, 'Make sure to select GPU from Edit > Notebook settings > Hardware accelerator'"
   ]
  },
  {
   "cell_type": "code",
   "execution_count": 2,
   "metadata": {
    "id": "KinuwzHMvlH6"
   },
   "outputs": [
    {
     "name": "stdout",
     "output_type": "stream",
     "text": [
      "Importing libraries\n",
      "Jupyter environment detected. Enabling Open3D WebVisualizer.\n",
      "[Open3D INFO] WebRTC GUI backend enabled.\n",
      "[Open3D INFO] WebRTCWindowSystem: HTTP handshake server disabled.\n"
     ]
    }
   ],
   "source": [
    "print(\"Importing libraries\")\n",
    "\n",
    "import numpy as np\n",
    "import copy\n",
    "import open3d as o3d"
   ]
  },
  {
   "cell_type": "markdown",
   "metadata": {
    "id": "-Y1Xfwwnw6T_"
   },
   "source": [
    "# 2 Loading File (e.g. Point Cloud) to be processed"
   ]
  },
  {
   "cell_type": "markdown",
   "metadata": {
    "id": "UiNyiO4PtlUE"
   },
   "source": [
    "## 2.1 Loading from Open3D library\n",
    "\n",
    "Open3D has some point clouds available to use for training without having to have your own point cloud available.\n",
    "The lines below are for two examples, one with a dataset containing a single point cloud, the other a dataset containing multiple point clouds.\n",
    "In this workshop, we will use our own data acquired in IITM, so ** do not run these lines of codes. This is only for your information!**"
   ]
  },
  {
   "cell_type": "code",
   "execution_count": null,
   "metadata": {
    "id": "x7lQfqEqty3s"
   },
   "outputs": [],
   "source": [
    "# REMOVE 2.1 ?\n",
    "\n",
    "# Loading Open3D dataset \"PLYPointCloud\" containing a single point cloud\n",
    "\n",
    "#dataset = o3d.data.PLYPointCloud()\n",
    "#pcd_o3d = o3d.io.read_point_cloud(dataset.path)\n",
    "\n",
    "# Loading Open3D dataset \"OfficePointCloud\" containing multiple point clouds\n",
    "\n",
    "#dataset = o3d.data.OfficePointClouds()\n",
    "#pcds_o3d = []\n",
    "#for pcd_path in dataset.paths:\n",
    "#    pcds_o3d.append(o3d.io.read_point_cloud(pcd_path))"
   ]
  },
  {
   "cell_type": "markdown",
   "metadata": {
    "id": "krnKEwPqspGV"
   },
   "source": [
    "\n",
    "## 2.2 Loading from Google Drive\n",
    "\n",
    "In Colab, accessing your own files is done most easily through a Google Drive account. So, you first need to connect to a Google Drive account, and you need to \"mount\" it to that it is accessible to your environment.\n"
   ]
  },
  {
   "cell_type": "code",
   "execution_count": 3,
   "metadata": {
    "colab": {
     "base_uri": "https://localhost:8080/"
    },
    "executionInfo": {
     "elapsed": 20751,
     "status": "ok",
     "timestamp": 1688369053378,
     "user": {
      "displayName": "Frédéric Bosché",
      "userId": "08198239712936543179"
     },
     "user_tz": -330
    },
    "id": "pfazRX9jtYQF",
    "outputId": "ebdf2f29-01b9-4ead-881a-1f77fa920323"
   },
   "outputs": [
    {
     "name": "stdout",
     "output_type": "stream",
     "text": [
      "Mount Google Drive\n",
      "Mounted at /content/drive\n"
     ]
    }
   ],
   "source": [
    "# Run if using Google Colab\n",
    "print(\"Mount Google Drive\")\n",
    "\n",
    "from google.colab import drive\n",
    "drive.mount('/content/drive')\n"
   ]
  },
  {
   "cell_type": "markdown",
   "metadata": {
    "id": "2Of9tMSUxLiP"
   },
   "source": [
    "We can now load a point cloud located in our drive. Let's start with a PLY point cloud.\n",
    "This is easy because Open3D offers functionality for this (and other) point cloud format.\n",
    "\n",
    "Note the \"print\" lines at the bottom.\n",
    "The first one prints a \"Open3D Point Cloud Object\" and results in the line \"PointCloud with xxxxxx points.\".\n",
    "The second one prints the XYZ values of the points in the cloud (not all of them because the point cloud is large, but the first few and last few).\n",
    "See how the points are stored as a list containing n lists of 3 values."
   ]
  },
  {
   "cell_type": "code",
   "execution_count": null,
   "metadata": {
    "id": "YmUtKTxrseI_"
   },
   "outputs": [],
   "source": [
    "# Run if using Google Colab\n",
    "print(\"Load PLY point cloud located in Google Drive\")\n",
    "\n",
    "path_ply = \"/content/drive/MyDrive/Data-Processing/IITM_RamanujanHall1.ply\"\n",
    "print(path_ply)\n"
   ]
  },
  {
   "cell_type": "code",
   "execution_count": 3,
   "metadata": {},
   "outputs": [
    {
     "name": "stdout",
     "output_type": "stream",
     "text": [
      "Load PLY point cloud located in local folder\n",
      "G:/My Drive/Data-Processing/IITM_RamanujanHall1.ply\n"
     ]
    }
   ],
   "source": [
    "# Run if *not* using Google Colab\n",
    "from tkinter import filedialog\n",
    "from tkinter import *\n",
    "root = Tk()\n",
    "root.withdraw()\n",
    "\n",
    "print(\"Load PLY point cloud located in local folder\")\n",
    "\n",
    "# Select the \"IITM_RamanujanHall1.ply\" point cloud\n",
    "\n",
    "path_ply = filedialog.askopenfilename(title=\"Select file of Point cloud\")\n",
    "print(path_ply)\n"
   ]
  },
  {
   "cell_type": "code",
   "execution_count": 4,
   "metadata": {},
   "outputs": [
    {
     "name": "stdout",
     "output_type": "stream",
     "text": [
      "PointCloud with 3633036 points.\n",
      "[[-10028.33203125   4039.9140625      82.96264648]\n",
      " [-10010.67773438   4047.00488281     85.96264648]\n",
      " [-10032.67382812   4044.51513672     92.96264648]\n",
      " ...\n",
      " [  1632.5546875    -612.98535156   2749.96264648]\n",
      " [  1629.15234375   -622.28222656   2759.96264648]\n",
      " [  1630.21875      -631.70898438   2752.96264648]]\n"
     ]
    }
   ],
   "source": [
    "pcd = o3d.io.read_point_cloud(path_ply)\n",
    "\n",
    "print(pcd)\n",
    "\n",
    "print(np.asarray(pcd.points))\n"
   ]
  },
  {
   "cell_type": "markdown",
   "metadata": {
    "id": "IvTasWKixPN6"
   },
   "source": [
    "For point clouds in e57 format, Open3D doesn't offer any built-in functionality.\n",
    "So, we need to use the pye57 library to read the file and then transform it into a Open3D point cloud object."
   ]
  },
  {
   "cell_type": "code",
   "execution_count": 5,
   "metadata": {
    "id": "l313Z_r2Zz6s"
   },
   "outputs": [
    {
     "name": "stdout",
     "output_type": "stream",
     "text": [
      "Collecting pye57\n",
      "  Obtaining dependency information for pye57 from https://files.pythonhosted.org/packages/5d/a1/2dde24bd917c156d91a0f18334609741345aab378b3f809381a37573b725/pye57-0.4.4-cp311-cp311-win_amd64.whl.metadata\n",
      "  Downloading pye57-0.4.4-cp311-cp311-win_amd64.whl.metadata (4.4 kB)\n",
      "Requirement already satisfied: numpy in c:\\programdata\\anaconda3\\lib\\site-packages (from pye57) (1.24.3)\n",
      "Collecting pyquaternion (from pye57)\n",
      "  Obtaining dependency information for pyquaternion from https://files.pythonhosted.org/packages/49/b3/d8482e8cacc8ea15a356efea13d22ce1c5914a9ee36622ba250523240bf2/pyquaternion-0.9.9-py3-none-any.whl.metadata\n",
      "  Downloading pyquaternion-0.9.9-py3-none-any.whl.metadata (1.4 kB)\n",
      "Downloading pye57-0.4.4-cp311-cp311-win_amd64.whl (1.1 MB)\n",
      "   ---------------------------------------- 0.0/1.1 MB ? eta -:--:--\n",
      "   -------- ------------------------------- 0.2/1.1 MB 7.0 MB/s eta 0:00:01\n",
      "   ------------------ --------------------- 0.5/1.1 MB 6.3 MB/s eta 0:00:01\n",
      "   ---------------------------- ----------- 0.8/1.1 MB 6.3 MB/s eta 0:00:01\n",
      "   ---------------------------------------  1.1/1.1 MB 6.9 MB/s eta 0:00:01\n",
      "   ---------------------------------------- 1.1/1.1 MB 5.8 MB/s eta 0:00:00\n",
      "Downloading pyquaternion-0.9.9-py3-none-any.whl (14 kB)\n",
      "Installing collected packages: pyquaternion, pye57\n",
      "Successfully installed pye57-0.4.4 pyquaternion-0.9.9\n"
     ]
    }
   ],
   "source": [
    "!pip install pye57"
   ]
  },
  {
   "cell_type": "code",
   "execution_count": 6,
   "metadata": {
    "id": "NYoZvkcINocx"
   },
   "outputs": [],
   "source": [
    "import pye57"
   ]
  },
  {
   "cell_type": "code",
   "execution_count": null,
   "metadata": {},
   "outputs": [],
   "source": [
    "# Run if using Google Colab\n",
    "print(\"Load e57 point cloud located in Google Drive\")\n",
    "\n",
    "path_e57 = \"/content/drive/MyDrive/Data-Processing/IITM_RamanujanHall1.e57\"\n",
    "print(path_e57)\n"
   ]
  },
  {
   "cell_type": "code",
   "execution_count": 7,
   "metadata": {},
   "outputs": [
    {
     "name": "stdout",
     "output_type": "stream",
     "text": [
      "Load e57 point cloud located in local folder\n",
      "G:/My Drive/Data-Processing/IITM_RamanujanHall1.e57\n"
     ]
    }
   ],
   "source": [
    "# Run if *not* using Google Colab\n",
    "print(\"Load e57 point cloud located in local folder\")\n",
    "\n",
    "path_e57 = filedialog.askopenfilename(title=\"Select file of Point cloud\")\n",
    "print(path_e57)\n"
   ]
  },
  {
   "cell_type": "code",
   "execution_count": 8,
   "metadata": {
    "id": "xmlocISJwk2_"
   },
   "outputs": [
    {
     "name": "stdout",
     "output_type": "stream",
     "text": [
      " Data shape:  (3633036,)\n",
      " Drinting pcd\n",
      "[[-10028.33203125   4039.9140625      82.96264648]\n",
      " [-10010.67773438   4047.00488281     85.96264648]\n",
      " [-10032.67382812   4044.51513672     92.96264648]\n",
      " ...\n",
      " [  1632.5546875    -612.98535156   2749.96264648]\n",
      " [  1629.15234375   -622.28222656   2759.96264648]\n",
      " [  1630.21875      -631.70898438   2752.96264648]]\n",
      " Data shape:  (3633036,)\n",
      " Printing rgb per point\n",
      "[[101. 102. 105.]\n",
      " [ 95.  94.  94.]\n",
      " [ 75.  71.  77.]\n",
      " ...\n",
      " [119. 102. 119.]\n",
      " [111.  97. 104.]\n",
      " [116. 101. 116.]]\n",
      "Created Open3D point cloud object\n",
      "[[-10028.33203125   4039.9140625      82.96264648]\n",
      " [-10010.67773438   4047.00488281     85.96264648]\n",
      " [-10032.67382812   4044.51513672     92.96264648]\n",
      " ...\n",
      " [  1632.5546875    -612.98535156   2749.96264648]\n",
      " [  1629.15234375   -622.28222656   2759.96264648]\n",
      " [  1630.21875      -631.70898438   2752.96264648]]\n",
      "[[101. 102. 105.]\n",
      " [ 95.  94.  94.]\n",
      " [ 75.  71.  77.]\n",
      " ...\n",
      " [119. 102. 119.]\n",
      " [111.  97. 104.]\n",
      " [116. 101. 116.]]\n"
     ]
    }
   ],
   "source": [
    "e57 = pye57.E57(path_e57)\n",
    "\n",
    "data = e57.read_scan(0,  ignore_missing_fields = True,  intensity=True, colors=True, row_column=True)\n",
    "assert isinstance(data[\"cartesianX\"], np.ndarray)\n",
    "assert isinstance(data[\"cartesianY\"], np.ndarray)\n",
    "assert isinstance(data[\"cartesianZ\"], np.ndarray)\n",
    "assert isinstance(data[\"colorRed\"], np.ndarray)\n",
    "assert isinstance(data[\"colorBlue\"], np.ndarray)\n",
    "assert isinstance(data[\"colorGreen\"], np.ndarray)\n",
    "\n",
    "\n",
    "# convert xyz data to np array\n",
    "\n",
    "print(\" Data shape: \", data[\"cartesianX\"].shape)\n",
    "\n",
    "xyz = np.empty([data[\"cartesianX\"].shape[0],3])\n",
    "xyz[:,0] = np.asarray(data[\"cartesianX\"][:])\n",
    "xyz[:,1] = np.asarray(data[\"cartesianY\"][:])\n",
    "xyz[:,2] = np.asarray(data[\"cartesianZ\"][:])\n",
    "print(\" Drinting pcd\")\n",
    "print(xyz)\n",
    "\n",
    "\n",
    "# convert rgb data to np array\n",
    "\n",
    "print(\" Data shape: \", data[\"colorRed\"].shape)\n",
    "rgb = np.empty([data[\"colorRed\"].shape[0],3])\n",
    "rgb[:,0] = np.asarray(data[\"colorRed\"][:])\n",
    "rgb[:,1] = np.asarray(data[\"colorBlue\"][:])\n",
    "rgb[:,2] = np.asarray(data[\"colorGreen\"][:])\n",
    "print(\" Printing rgb per point\")\n",
    "print(rgb)\n",
    "\n",
    "\n",
    "# Create and populate Open3D point cloud object\n",
    "\n",
    "pcd2 = o3d.geometry.PointCloud()\n",
    "pcd2.points = o3d.utility.Vector3dVector(xyz)\n",
    "pcd2.colors = o3d.utility.Vector3dVector(rgb)\n",
    "\n",
    "print(\"Created Open3D point cloud object\")\n",
    "print(np.asarray(pcd2.points))\n",
    "print(np.asarray(pcd2.colors))\n"
   ]
  },
  {
   "cell_type": "markdown",
   "metadata": {
    "id": "blLbrPipZcRn"
   },
   "source": [
    "## 2.3 Unit\n",
    "\n",
    "Formats like XYZ or PLY do not provide any information about the units in which the coordinates are provided. Dealing with this can be addressed by either applying a conversion factor to transform all the data in known units (e.g. meters, or millimeters), or have a process that is flexible enough to account for various units.\n",
    "\n",
    "Here, we follow the latter approach by setting a variable that captures if the data is in meters or millimeters.\n",
    "Here we propose to use use a simple parameter *unitsInMeters* that must be to True if your point cloud is in meters, or set to False if it is in millimeters.\n",
    "\n",
    "The data we use in this workshop is in millimeters, so we set the parameter to false.\n"
   ]
  },
  {
   "cell_type": "code",
   "execution_count": 9,
   "metadata": {
    "id": "TYImDs4GZbVz"
   },
   "outputs": [
    {
     "name": "stdout",
     "output_type": "stream",
     "text": [
      "Setting parameter storing whether the data is in millimeters or meters\n",
      "unitInMeters= False\n"
     ]
    }
   ],
   "source": [
    "print(\"Setting parameter storing whether the data is in millimeters or meters\")\n",
    "\n",
    "unitsInMeters = False  # millimeters\n",
    "\n",
    "print(\"unitInMeters=\", unitsInMeters)\n"
   ]
  },
  {
   "cell_type": "markdown",
   "metadata": {
    "id": "64-Ns4E336Bx"
   },
   "source": [
    "# 3 Visualise Point Cloud\n",
    "\n",
    "Being able to plot data is important throughout the data processing development to ensure everything is working as expected.\n",
    "Open3D offers built-in functionality for this. The function \"draw_geometries()\" located in thr \"visualization\" module of Open3D is commonly used for this. However, it unfortunately does not work in Google Colab. For this reason, Open3D have developed a second drawing function called \"draw_plotly()\" also located in the Visualization module of Open3D.\n",
    "\n",
    "For the first time in this tutorial, we are asking you to actually write the code (here a single line) for plotting either of the point clouds you just loaded. To find out which input parameter(s) the function takes -- both necessary and optional ones, explore the corresponding Open3D documentation page at: http://www.open3d.org/docs/release/python_api/open3d.visualization.draw_plotly.html.\n"
   ]
  },
  {
   "cell_type": "code",
   "execution_count": 10,
   "metadata": {},
   "outputs": [],
   "source": [
    "# INSERT CODE BELOW FOR CALCULATING POINT NORMALS.\n",
    "\n",
    "###################\n"
   ]
  },
  {
   "cell_type": "markdown",
   "metadata": {
    "id": "huCypabb5zp1"
   },
   "source": [
    "# 4 Downsample Point Cloud\n",
    "\n",
    "Laser scanned point clouds can often be very dense and also have heterogeneous density, i.e. with denser areas (areas being covered by many points)  and sparser areas (areas covered by much fewer points).\n",
    "\n",
    "A process commonly used in point cloud processing is to sub-sample (or down-sample) the input point cloud so that it has a good enough density and this density is as homogeneous as possible.\n",
    "\n",
    "Open3D offers three functions for this called:\n",
    "*   *random_down_sample()*: this randomly picks the preset number of point expected in output.\n",
    "*   *uniform_down_sample()*: this picks 1 point every X in the input point cloud\n",
    "*   *voxel_down_sample()*: this employs voxelisation to achieve a spatial uniform sampling (see below for details).\n",
    "\n",
    "In this workshop, we will use\n",
    "\"voxel_down_sample()\", which is documented at http://www.open3d.org/docs/0.8.0/tutorial/Basic/pointcloud.html#voxel-downsampling. This function employs a voxelisation of the space (with parameter \"voxel_size\"). As illustrated in the image below, the idea is to split the whole space in small cubic values with each side having the size \"voxel_size\" and then keep only one point.\n",
    "\n",
    "<div>\n",
    "<img src=\"https://miro.medium.com/v2/resize:fit:720/format:webp/1*RtirK6UcxxooOSG-VwytAg.png\" width=\"300\"/>\n",
    "</div>\n",
    "\n",
    "In the code box below:\n",
    " - Add the code (one line of code) to downsample the PLY point cloud. Call the downsampled point cloud \"downpcd\".\n",
    " - Add the code to plot the resulting downsampled point cloud."
   ]
  },
  {
   "cell_type": "code",
   "execution_count": 11,
   "metadata": {
    "id": "RnGAeqXspWYM"
   },
   "outputs": [
    {
     "name": "stdout",
     "output_type": "stream",
     "text": [
      "Downsampling point cloud\n",
      "PointCloud with 3633036 points.\n",
      "PointCloud with 1622720 points.\n"
     ]
    }
   ],
   "source": [
    "print (\"Downsampling point cloud\")\n",
    "\n",
    "if unitsInMeters == True :\n",
    "    my_voxel_size = 0.02\n",
    "else :\n",
    "    my_voxel_size = 20.0\n",
    "\n",
    "# INSERT CODE BELOW FOR DOWNSAMPLING.\n",
    "\n",
    "###################\n",
    "\n",
    "print(pcd)\n",
    "print(downpcd)\n"
   ]
  },
  {
   "cell_type": "code",
   "execution_count": 12,
   "metadata": {
    "colab": {
     "background_save": true
    },
    "id": "n4gpFWzrMRqc"
   },
   "outputs": [],
   "source": [
    "# INSERT CODE BELOW FOR VIEWING SUBSAMPLED POINT CLOUD.\n",
    "\n",
    "###################"
   ]
  },
  {
   "cell_type": "markdown",
   "metadata": {
    "id": "ULUJmsOf7Ye8"
   },
   "source": [
    "# 5 Calculate Point Normals\n",
    "\n",
    "A useful piece of information to have for each point in the point cloud is the direction of the surface sampled by the point cloud at that point.\n",
    "This is typically captured in the form of what we call a 'normal vector' which is the unit vector orthogonal to the surface at the defined point. See the vector ***n*** in the illustration below.\n",
    "\n",
    "\n",
    "<div>\n",
    "<img src=\"https://www.researchgate.net/profile/Shaohui-Sun-2/publication/271529031/figure/fig5/AS:650154214449179@1532020252978/Normal-estimation-according-to-the-eigenvector-corresponding-to-the-smallest.png\" width=\"300\"/>\n",
    "</div>\n",
    "(Source: https://www.researchgate.net/figure/Normal-estimation-according-to-the-eigenvector-corresponding-to-the-smallest_fig5_271529031)\n",
    "\n",
    "\n",
    "\n",
    "\n",
    "Open3D offers some built-in function for calculating the normal vector for each called \"estimate_normals()\" and documented at http://www.open3d.org/docs/0.8.0/tutorial/Basic/pointcloud.html#vertex-normal-estimation.\n",
    "\n",
    "To calculate the normal vector, the function needs to capture information beyond the given point to understand the local surface shape. The function does this by finding neighboring points, as illustrated above. it then calculates what are called eigenvectors with associated eigenvalues. The eigenvector with the lowest eigenvalue is selected as the normal vector (as also illustrated above).\n",
    "Now, with large point clouds, finding neighboring points could be very time consuming if one simply iterated through all the points to find those nearby. To speed this process up significantly, Open3D employs a KT Tree, which is a data structure that makes such searchers much easier. The \"estimate_normals()\" function makes use of a KD Tree.\n",
    "\n",
    "Complete the code box below with the line of code to calculate the normals, and subsequently draw the point cloud with the normals also drawn. For the KD tree, use the parameters *radius = 5cm* , *max_nn = 30* neighbors.\n",
    "\n",
    "Note that the \"assert()\" line in-between checks if the point cloud indeed has normals. If it does not, then it returns \"Point cloud should have normals, but doesn't\" and stops the processing of the code box.\n"
   ]
  },
  {
   "cell_type": "code",
   "execution_count": 13,
   "metadata": {
    "id": "klwYCCmTpZki"
   },
   "outputs": [],
   "source": [
    "# INSERT CODE BELOW FOR CALCULATING POINT NORMALS.\n",
    "\n",
    "\n",
    "\n",
    "\n",
    "\n",
    "\n",
    "\n",
    "###################\n",
    "\n",
    "assert (downpcd.has_normals()), \"Point cloud should have normals, but doesn't\"\n"
   ]
  },
  {
   "cell_type": "markdown",
   "metadata": {
    "id": "5Z8LDAKZKs9L"
   },
   "source": [
    "Note that draw_plotly() does not enable the plotting of the points' normal vectors. However, draw_geometries() does as the code below illustrates. However, as noted above, that function cannot be employed within Colab, which is why it is commented out in the code box below. It will thus only be illustrated by the workshop convenors."
   ]
  },
  {
   "cell_type": "code",
   "execution_count": 14,
   "metadata": {
    "id": "LpZC-ux9MONZ"
   },
   "outputs": [],
   "source": [
    "# Run if *not* using Google Colab\n",
    "o3d.visualization.draw_geometries([downpcd], point_show_normal = True)"
   ]
  },
  {
   "cell_type": "markdown",
   "metadata": {
    "id": "4hWgpABO_I62"
   },
   "source": [
    "# 6 Extract Planes or Planar Patches\n",
    "\n",
    "For Scan-to-BIM or Scan-vs-BIM processes, one typically needs to detect elements that make up the scanned building or infrastructure. In that regard, it can be observed that the built environment is includes many elements with regular surfaces, in particular planes.\n",
    "\n",
    "For this reason, the next step of this workshop explores how Open3D can be used to explore planes or planar patches. The extraction of edges (which are at the intersection of those surfaces) is explored in Section 8 below."
   ]
  },
  {
   "cell_type": "markdown",
   "metadata": {
    "id": "GxazTv_KEf0m"
   },
   "source": [
    "## 6.1 Extract planes with RANSAC\n",
    "\n",
    "A first approach to finding planar areas is to find planes in the data.\n",
    "Importantly, here, planes means an unbounded 2D surface.\n",
    "An algorithm commonly used for this is called RANdom Sampling and Consensus (RANSAC). Open3D provides a built-in RANSAC function called *segment_plane()* that can return the plane that has the largest support in the data, i.e. that has the largest number of points near it. The function is documented at http://www.open3d.org/docs/release/tutorial/geometry/pointcloud.html#Plane-segmentation. RANSAC ramdomly selected *n* points to fit a plane (*n >=3* points for a plane). It then counts all points that fall in the neighborhood of the plane (e.g. +/- 3cm from the plane). This process is then repeated for a fixed number of iterations. The plane with the most support is then returned by the function.\n",
    "\n",
    "The method only gives the one plane with the largest support. Therefore, to extract many planes in the data, the method needs to be applied multiple times, with the point cloud at each iteration set as the point cloud used as input minus all the points that are part of the support of the plane extracted at the previous iteration.\n",
    "\n",
    "\n",
    "The whole algorithm is provided to you because we have only a limited of time for this workshop. It is however suggested that you do the following:\n",
    "\n",
    "\n",
    "*   Run the algorithm as it is, as well as the code block underneath to visualise the results.\n",
    "*   Read the output and read the algorithm carefully and try to understand what it is doing\n",
    "*   Suggest the missing title for the last step of the algorithm *Xxxxxxxxxxxxxxxxxxx*\n",
    "*   Run the algorithm for a different value of the parameter *my_distance_threshold* which defines how far from the plane supporting points are searched (e.g. twice larger, or twice smaller). Compare the results.\n"
   ]
  },
  {
   "cell_type": "code",
   "execution_count": 15,
   "metadata": {
    "id": "AJOrc2cKpcgy"
   },
   "outputs": [
    {
     "name": "stdout",
     "output_type": "stream",
     "text": [
      "Extracting Planes with RANSAC\n",
      "Iteration: 1\n",
      "RANSACCloud:  1622720\n",
      "Plane equation: 0.00x + -0.00y + 1.00z + -2759.01 = 0\n",
      "inlier_cloud:  407515\n",
      "outlier_cloud:  1215205\n",
      "colour: green\n",
      "Iteration: 2\n",
      "RANSACCloud:  1215205\n",
      "Plane equation: 0.00x + -0.00y + 1.00z + 6.05 = 0\n",
      "inlier_cloud:  352434\n",
      "outlier_cloud:  862771\n",
      "colour: blue\n",
      "Iteration: 3\n",
      "RANSACCloud:  862771\n",
      "Plane equation: 0.01x + -0.00y + 1.00z + -730.45 = 0\n",
      "inlier_cloud:  120290\n",
      "outlier_cloud:  742481\n",
      "colour: yellow\n",
      "Iteration: 4\n",
      "RANSACCloud:  742481\n",
      "Plane equation: 1.00x + 0.01y + 0.00z + 7306.56 = 0\n",
      "inlier_cloud:  97191\n",
      "outlier_cloud:  645290\n",
      "colour: magenta\n",
      "Iteration: 5\n",
      "RANSACCloud:  645290\n",
      "Plane equation: 1.00x + -0.00y + -0.00z + -1619.85 = 0\n",
      "inlier_cloud:  84443\n",
      "outlier_cloud:  560847\n",
      "colour: cyan\n",
      "Iteration: 6\n",
      "RANSACCloud:  560847\n",
      "Plane equation: 1.00x + -0.01y + -0.00z + 7278.60 = 0\n",
      "inlier_cloud:  72904\n",
      "outlier_cloud:  487943\n",
      "colour: red\n",
      "Iteration: 7\n",
      "RANSACCloud:  487943\n",
      "Plane equation: -0.00x + 1.00y + 0.01z + -4849.24 = 0\n",
      "inlier_cloud:  60187\n",
      "outlier_cloud:  427756\n",
      "colour: green\n",
      "Iteration: 8\n",
      "RANSACCloud:  427756\n",
      "Plane equation: 0.00x + 1.00y + 0.00z + 8487.01 = 0\n",
      "inlier_cloud:  53979\n",
      "outlier_cloud:  373777\n",
      "colour: blue\n",
      "Iteration: 9\n",
      "RANSACCloud:  373777\n",
      "Plane equation: 0.01x + -0.01y + 1.00z + -567.11 = 0\n",
      "inlier_cloud:  48438\n",
      "outlier_cloud:  325339\n",
      "colour: yellow\n",
      "Iteration: 10\n",
      "RANSACCloud:  325339\n",
      "Plane equation: 0.01x + -0.00y + 1.00z + -2625.97 = 0\n",
      "inlier_cloud:  30789\n",
      "outlier_cloud:  294550\n",
      "colour: magenta\n",
      "Iteration: 11\n",
      "RANSACCloud:  294550\n",
      "Plane equation: 1.00x + -0.00y + 0.00z + 9095.81 = 0\n",
      "inlier_cloud:  24890\n",
      "outlier_cloud:  269660\n",
      "colour: cyan\n",
      "Iteration: 12\n",
      "RANSACCloud:  269660\n",
      "Plane equation: 0.02x + -0.01y + 1.00z + -828.13 = 0\n",
      "inlier_cloud:  21164\n",
      "outlier_cloud:  248496\n",
      "colour: red\n",
      "Iteration: 13\n",
      "RANSACCloud:  248496\n",
      "Plane equation: 0.00x + -0.01y + 1.00z + -460.46 = 0\n",
      "inlier_cloud:  20717\n",
      "outlier_cloud:  227779\n",
      "colour: green\n",
      "Iteration: 14\n",
      "RANSACCloud:  227779\n",
      "Plane equation: 0.01x + -0.01y + 1.00z + -648.83 = 0\n",
      "inlier_cloud:  20723\n",
      "outlier_cloud:  207056\n",
      "colour: blue\n",
      "Iteration: 15\n",
      "RANSACCloud:  207056\n",
      "Plane equation: 0.00x + -0.00y + 1.00z + -89.68 = 0\n",
      "inlier_cloud:  19278\n",
      "outlier_cloud:  187778\n",
      "colour: yellow\n",
      "Iteration: 16\n",
      "RANSACCloud:  187778\n",
      "Plane equation: 0.02x + -0.01y + 1.00z + -985.69 = 0\n",
      "inlier_cloud:  15741\n",
      "outlier_cloud:  172037\n",
      "colour: magenta\n",
      "Iteration: 17\n",
      "RANSACCloud:  172037\n",
      "Plane equation: 0.00x + 1.00y + 0.01z + 8409.16 = 0\n",
      "inlier_cloud:  15012\n",
      "outlier_cloud:  157025\n",
      "colour: cyan\n",
      "Iteration: 18\n",
      "RANSACCloud:  157025\n",
      "Plane equation: 0.93x + -0.38y + -0.01z + 7837.30 = 0\n",
      "inlier_cloud:  14500\n",
      "outlier_cloud:  142525\n",
      "colour: red\n",
      "Iteration: 19\n",
      "RANSACCloud:  142525\n",
      "Plane equation: 0.00x + -0.01y + 1.00z + -361.62 = 0\n",
      "inlier_cloud:  13919\n",
      "outlier_cloud:  128606\n",
      "colour: green\n",
      "Iteration: 20\n",
      "RANSACCloud:  128606\n",
      "Plane equation: 1.00x + 0.06y + -0.01z + 9117.80 = 0\n",
      "inlier_cloud:  12725\n",
      "outlier_cloud:  115881\n",
      "colour: blue\n",
      "Iteration: 21\n",
      "RANSACCloud:  115881\n",
      "Plane equation: 1.00x + 0.00y + -0.00z + -1217.50 = 0\n",
      "inlier_cloud:  11137\n",
      "outlier_cloud:  104744\n",
      "colour: yellow\n",
      "Iteration: 22\n",
      "RANSACCloud:  104744\n",
      "Plane equation: 0.01x + -0.01y + 1.00z + -780.87 = 0\n",
      "inlier_cloud:  10962\n",
      "outlier_cloud:  93782\n",
      "colour: magenta\n",
      "Iteration: 23\n",
      "RANSACCloud:  93782\n",
      "Plane equation: 0.93x + 0.38y + -0.00z + 7744.45 = 0\n",
      "inlier_cloud:  10034\n",
      "outlier_cloud:  83748\n",
      "colour: cyan\n",
      "Iteration: 24\n",
      "RANSACCloud:  83748\n",
      "Plane equation: 0.04x + 1.00y + -0.04z + -4599.69 = 0\n",
      "inlier_cloud:  8097\n",
      "outlier_cloud:  75651\n",
      "colour: red\n"
     ]
    }
   ],
   "source": [
    "print(\"Extracting Planes with RANSAC\")\n",
    "\n",
    "RANSACCloud = copy.deepcopy(downpcd)\n",
    "\n",
    "planeClouds = []\n",
    "Continue = True\n",
    "count = 1\n",
    "\n",
    "if unitsInMeters == True:\n",
    "    my_distance_threshold = 0.05\n",
    "else:\n",
    "    my_distance_threshold = 50.0\n",
    "\n",
    "\n",
    "while Continue:\n",
    "    print(\"Iteration:\", count)\n",
    "    print(\"RANSACCloud: \", len(RANSACCloud.points))\n",
    "\n",
    "    plane_model, inliers = RANSACCloud.segment_plane(ransac_n = 3,\n",
    "                                                     distance_threshold = my_distance_threshold,\n",
    "                                                     num_iterations = 10000)\n",
    "\n",
    "    # Print plane model equation:\n",
    "    [a, b, c, d] = plane_model\n",
    "    print(\"Plane equation: {:.2f}x + {:.2f}y + {:.2f}z + {:.2f} = 0\".format(a, b, c, d))\n",
    "\n",
    "    # Get inlier_cloud and outlier_cloud:\n",
    "    inlier_cloud = RANSACCloud.select_by_index(inliers)\n",
    "    print(\"inlier_cloud: \", len(inlier_cloud.points))\n",
    "\n",
    "    outlier_cloud = RANSACCloud.select_by_index(inliers, invert=True)\n",
    "    print(\"outlier_cloud: \", len(outlier_cloud.points))\n",
    "\n",
    "    # Colour inlier_cloud (this is for the subsequent visualisation)\n",
    "    if count % 6 == 0:\n",
    "        print(\"colour: red\")\n",
    "        inlier_cloud.paint_uniform_color([1.0, 0, 0])\n",
    "    elif count % 6 == 1:\n",
    "        print(\"colour: green\")\n",
    "        inlier_cloud.paint_uniform_color([0, 1.0, 0])\n",
    "    elif count % 6 == 2:\n",
    "        print(\"colour: blue\")\n",
    "        inlier_cloud.paint_uniform_color([0, 0, 1.0])\n",
    "    elif count % 6 == 3:\n",
    "        print(\"colour: yellow\")\n",
    "        inlier_cloud.paint_uniform_color([1.0, 1.0, 0])\n",
    "    elif count % 6 == 4:\n",
    "        print(\"colour: magenta\")\n",
    "        inlier_cloud.paint_uniform_color([1.0, 0, 1.0])\n",
    "    elif count % 6 == 5:\n",
    "        print(\"colour: cyan\")\n",
    "        inlier_cloud.paint_uniform_color([0, 1.0, 1.0])\n",
    "\n",
    "    # Add inlier_cloud to planeClouds:\n",
    "    planeClouds.append(inlier_cloud)\n",
    "\n",
    "    # Xxxxxxxxxxxxxxxxxxx:\n",
    "    if len(inlier_cloud.points) > 10000 :\n",
    "        RANSACCloud = copy.deepcopy(outlier_cloud)\n",
    "        count += 1\n",
    "    else :\n",
    "        Continue = False\n"
   ]
  },
  {
   "cell_type": "code",
   "execution_count": 16,
   "metadata": {
    "colab": {
     "background_save": true
    },
    "id": "d6JFz065MMGM"
   },
   "outputs": [
    {
     "name": "stdout",
     "output_type": "stream",
     "text": [
      "Drawing RANSAC plane results\n"
     ]
    }
   ],
   "source": [
    "print(\"Drawing RANSAC plane results\")\n",
    "\n",
    "# Uncomment if using Google Colab\n",
    "#o3d.visualization.draw_plotly(planeClouds, point_sample_factor = 0.1)\n",
    "\n",
    "# Uncomment if *not* using Google Colab\n",
    "o3d.visualization.draw_geometries(planeClouds)\n"
   ]
  },
  {
   "cell_type": "markdown",
   "metadata": {
    "id": "MZXY7MzIb2xb"
   },
   "source": [
    "## 6.2 Extract planes using DBScan\n",
    "In this section we will demonstrate how to use a out of the bag clustering algorithm to perform segmentation and we will then see how this can be useful to improve the results we just got.\n",
    "The clustering algorithm we consider is called \"DBScan\" and performs density based clustering. Open3D has a built-in function to apply DBScan called *cluster_dbscan* that is documented at http://www.open3d.org/docs/latest/tutorial/geometry/pointcloud.html#DBSCAN-clustering, there are two tunable parameters\n",
    "epsilon which\n",
    "\n",
    "1.   *eps*: This parameter defines the minimum distance between two points to be considered neighbours, i.e only points below epsilon distance which from each other are considered to be part of the same cluster. Hence if **Epsilon** is too small the points will not have any neighbours. This parameter is also dictated by the downsampling strategy used\n",
    "2.   *min_points*: The minimum number of points within **Epsilon** radius to form the aggregate for a cluster. **Min Points** can be derived from the number of dimensions D in the dataset as, **Min Points** >= D+1. The minimum value of **Min Points** must be chosen at least 3.\n",
    "\n",
    "Insert the code below (one line) applying DBSCan to the input point cloud with eps=5cm and min_points = 10. The output must be called \"clusterLabels\".\n",
    "\n",
    "The second code block below colorizes the input point cloud according to the outputted DBSCan cluster labels and plots the point cloud.\n",
    "\n"
   ]
  },
  {
   "cell_type": "code",
   "execution_count": 17,
   "metadata": {
    "id": "N9qEkgBPaOJk"
   },
   "outputs": [
    {
     "name": "stdout",
     "output_type": "stream",
     "text": [
      "Applying DBScan\n",
      "max_label = 401\n"
     ]
    }
   ],
   "source": [
    "print(\"Applying DBScan\")\n",
    "\n",
    "DBScanCloud = copy.deepcopy(downpcd)\n",
    "\n",
    "\n",
    "# INSERT YOUR CODE FOR EXTRACTING SEGMENTS USING DBSCAN\n",
    "\n",
    "\n",
    "\n",
    "\n",
    "\n",
    "\n",
    "#####################################\n",
    "\n",
    "labels = np.array(clusterLabels)\n",
    "\n",
    "max_label = labels.max()\n",
    "\n",
    "print(\"max_label =\", max_label)\n"
   ]
  },
  {
   "cell_type": "code",
   "execution_count": 19,
   "metadata": {
    "id": "GUmvP5rE2RFP"
   },
   "outputs": [],
   "source": [
    "import matplotlib.pyplot as plt"
   ]
  },
  {
   "cell_type": "code",
   "execution_count": 20,
   "metadata": {
    "colab": {
     "background_save": true
    },
    "id": "u0vfr29YfOHH"
   },
   "outputs": [
    {
     "name": "stdout",
     "output_type": "stream",
     "text": [
      "Visualise DBScan results\n"
     ]
    }
   ],
   "source": [
    "print(\"Visualise DBScan results\")\n",
    "\n",
    "# Define point colors based on point cluster label:\n",
    "colors = plt.get_cmap(\"tab20\")(labels/max_label if max_label > 0 else 1)\n",
    "\n",
    "# For all points not associated to any cluster by DBScan (i.e. label < 0), set color to black\n",
    "colors[labels < 0] = 0\n",
    "\n",
    "DBScanCloud.colors = o3d.utility.Vector3dVector(colors[:, :3])\n"
   ]
  },
  {
   "cell_type": "code",
   "execution_count": 21,
   "metadata": {},
   "outputs": [],
   "source": [
    "# Uncomment if using Google Colab\n",
    "#o3d.visualization.draw_plotly([DBScanCloud], point_sample_factor = 0.1)\n",
    "\n",
    "# Uncomment if *not* using Google Colab\n",
    "o3d.visualization.draw_geometries([DBScanCloud])\n"
   ]
  },
  {
   "cell_type": "markdown",
   "metadata": {
    "id": "FcpZkWZiiAgC"
   },
   "source": [
    "## 6.3 Extract planes by combining RANSAC and DBSCan\n",
    "\n",
    "As noted earlier when looking at the results obtained with RANSAC, it can extract planes but does not split the plane into patches of dense sets of points, which is what DBScan is useful for. Therefore, it makes sense to combined both approaches. This is what the code below achieves. Iteratively, it applies RANSAC and then split the plane data into planar patches using DBScan, keeping only the planar patch with the most support.\n",
    "\n",
    "Note that the iteration method here is different than earlier, with the algorithm simply iterating *max_plane_idx = 20* times."
   ]
  },
  {
   "cell_type": "code",
   "execution_count": 22,
   "metadata": {
    "id": "BkfyAw2EbvPe"
   },
   "outputs": [
    {
     "name": "stdout",
     "output_type": "stream",
     "text": [
      "Initialization\n",
      "pass 1 / 20\n",
      "RestCloud: 1622720\n",
      "1\n",
      "Inliers: 289950\n",
      "2\n",
      "3\n",
      "4\n",
      "pass 2 / 20\n",
      "RestCloud: 1334166\n",
      "1\n",
      "Inliers: 263886\n",
      "2\n",
      "3\n",
      "4\n",
      "pass 3 / 20\n",
      "RestCloud: 1071540\n",
      "1\n",
      "Inliers: 81864\n",
      "2\n",
      "3\n",
      "4\n",
      "pass 4 / 20\n",
      "RestCloud: 989781\n",
      "1\n",
      "Inliers: 62551\n",
      "2\n",
      "3\n",
      "4\n",
      "pass 5 / 20\n",
      "RestCloud: 973998\n",
      "1\n",
      "Inliers: 66590\n",
      "2\n",
      "3\n",
      "4\n",
      "pass 6 / 20\n",
      "RestCloud: 914595\n",
      "1\n",
      "Inliers: 62010\n",
      "2\n",
      "3\n",
      "4\n",
      "pass 7 / 20\n",
      "RestCloud: 853032\n",
      "1\n",
      "Inliers: 65583\n",
      "2\n",
      "3\n",
      "4\n",
      "pass 8 / 20\n",
      "RestCloud: 838493\n",
      "1\n",
      "Inliers: 53906\n",
      "2\n",
      "3\n",
      "4\n",
      "pass 9 / 20\n",
      "RestCloud: 820040\n",
      "1\n",
      "Inliers: 32002\n",
      "2\n",
      "3\n",
      "4\n",
      "pass 10 / 20\n",
      "RestCloud: 811321\n",
      "1\n",
      "Inliers: 55505\n",
      "2\n",
      "3\n",
      "4\n",
      "pass 11 / 20\n",
      "RestCloud: 797421\n",
      "1\n",
      "Inliers: 32865\n",
      "2\n",
      "3\n",
      "4\n",
      "pass 12 / 20\n",
      "RestCloud: 765407\n",
      "1\n",
      "Inliers: 30909\n",
      "2\n",
      "3\n",
      "4\n",
      "pass 13 / 20\n",
      "RestCloud: 756206\n",
      "1\n",
      "Inliers: 33282\n",
      "2\n",
      "3\n",
      "4\n",
      "pass 14 / 20\n",
      "RestCloud: 750119\n",
      "1\n",
      "Inliers: 25911\n",
      "2\n",
      "3\n",
      "4\n",
      "pass 15 / 20\n",
      "RestCloud: 743638\n",
      "1\n",
      "Inliers: 26212\n",
      "2\n",
      "3\n",
      "4\n",
      "pass 16 / 20\n",
      "RestCloud: 733486\n",
      "1\n",
      "Inliers: 25773\n",
      "2\n",
      "3\n",
      "4\n",
      "pass 17 / 20\n",
      "RestCloud: 728300\n",
      "1\n",
      "Inliers: 30047\n",
      "2\n",
      "3\n",
      "4\n",
      "pass 18 / 20\n",
      "RestCloud: 721592\n",
      "1\n",
      "Inliers: 17638\n",
      "2\n",
      "3\n",
      "4\n",
      "pass 19 / 20\n",
      "RestCloud: 710279\n",
      "1\n",
      "Inliers: 16097\n",
      "2\n",
      "3\n",
      "4\n",
      "pass 20 / 20\n",
      "RestCloud: 705748\n",
      "1\n",
      "Inliers: 18581\n",
      "2\n",
      "3\n",
      "4\n",
      "iterations finished\n"
     ]
    }
   ],
   "source": [
    "print(\"Initialization\")\n",
    "RestCloud = copy.deepcopy(downpcd)\n",
    "\n",
    "SegmentModels={}\n",
    "Segments={}\n",
    "\n",
    "if unitsInMeters == True :\n",
    "    d_threshold = 0.01\n",
    "    my_eps = 0.05\n",
    "else:\n",
    "    d_threshold = 10.0\n",
    "    my_eps = 50.0\n",
    "\n",
    "# Set maxium number of planes we want to detect (i.e. number of iterations)\n",
    "max_plane_idx = 20\n",
    "\n",
    "# Looking for planes and dense planar patches within them\n",
    "for i in range(max_plane_idx):\n",
    "    print(\"pass\",i+1,\"/\", max_plane_idx)\n",
    "    print(\"RestCloud:\", len(RestCloud.points))\n",
    "    SegmentModels[i], Inliers = RestCloud.segment_plane(ransac_n = 3,\n",
    "                                                        distance_threshold = d_threshold,\n",
    "                                                        num_iterations=1000)\n",
    "\n",
    "    # Create a segment from inliers of the detected plane\n",
    "    print(\"1\")\n",
    "    print(\"Inliers:\", len(Inliers))\n",
    "    Segments[i] = RestCloud.select_by_index(Inliers)\n",
    "\n",
    "    Labels = np.array(Segments[i].cluster_dbscan(eps = d_threshold * 10,\n",
    "                                                 min_points = 10))\n",
    "\n",
    "\n",
    "    # Get the size of all candidates from the clustering\n",
    "    print(\"2\")\n",
    "    Candidates = [len(np.where(Labels==j)[0]) for j in np.unique(Labels)]\n",
    "\n",
    "\n",
    "    # The best candidate has the most number of assignments\n",
    "    print(\"3\")\n",
    "    BestCandidate = int(np.unique(Labels)[np.where(Candidates==np.max(Candidates))[0]])\n",
    "\n",
    "    # Only copy the remaining points that do not belong to the Best Candidate\n",
    "    print(\"4\")\n",
    "    RestCloud = RestCloud.select_by_index(Inliers, invert = True) + Segments[i].select_by_index(list(np.where(Labels!=BestCandidate)[0]))\n",
    "\n",
    "    Segments[i] = Segments[i].select_by_index(list(np.where(Labels==BestCandidate)[0]))\n",
    "\n",
    "    PlaneColors = plt.get_cmap(\"tab20\")(i)\n",
    "    Segments[i].paint_uniform_color(list(PlaneColors[:3]))\n",
    "\n",
    "print(\"iterations finished\")\n"
   ]
  },
  {
   "cell_type": "code",
   "execution_count": 24,
   "metadata": {
    "id": "aSWgO99ZfaIJ"
   },
   "outputs": [],
   "source": [
    "# Draw results:\n",
    "\n",
    "# Uncomment if using Google Colab\n",
    "#o3d.visualization.draw_plotly([Segments[i] for i in range(max_plane_idx)], point_sample_factor = 0.1)\n",
    "\n",
    "# Uncomment if *not* using Google Colab\n",
    "o3d.visualization.draw_geometries([Segments[i] for i in range(max_plane_idx)])\n"
   ]
  },
  {
   "cell_type": "markdown",
   "metadata": {
    "id": "6lQc6_ITltz0"
   },
   "source": [
    "The above code finds the larger *max_plane_idx* (here = 20) planar clusters. Something we can do is apply one last time DBScan to the remaining points (not all planar!) to find the remaining clusters."
   ]
  },
  {
   "cell_type": "code",
   "execution_count": 25,
   "metadata": {
    "id": "_gOkl0rXIzpz"
   },
   "outputs": [
    {
     "name": "stdout",
     "output_type": "stream",
     "text": [
      "point cloud has 1409 clusters\n"
     ]
    }
   ],
   "source": [
    "# Apply DBScan to RestCloud\n",
    "\n",
    "RestLabels = np.array(RestCloud.cluster_dbscan(eps = my_eps, min_points = 5))\n",
    "max_label = RestLabels.max()\n",
    "print(f\"point cloud has {max_label + 1} clusters\")\n",
    "\n",
    "RestColors = plt.get_cmap(\"tab10\")(RestLabels / (max_label if max_label > 0 else 1))\n",
    "RestColors[RestLabels < 0] = 0\n",
    "RestCloud.colors = o3d.utility.Vector3dVector(RestColors[:, :3])"
   ]
  },
  {
   "cell_type": "code",
   "execution_count": 26,
   "metadata": {
    "id": "0dFFq7FrI0YQ"
   },
   "outputs": [],
   "source": [
    "# Draw results:\n",
    "\n",
    "# Uncomment if using Google Colab\n",
    "#o3d.visualization.draw_plotly([Segments[i] for i in range(max_plane_idx)]+[RestCloud], point_sample_factor = 0.1)\n",
    "\n",
    "# Uncomment if *not* using Google Colab\n",
    "o3d.visualization.draw_geometries([Segments[i] for i in range(max_plane_idx)]+[RestCloud])\n"
   ]
  },
  {
   "cell_type": "markdown",
   "metadata": {
    "id": "AZliG3PoFFHC"
   },
   "source": [
    "## 6.4 Extract planar patches\n",
    "\n",
    "Open3D provides a second built-in algorithm this time to extract planar patches. The function is called *detect_planar_patches()* and is documented at http://www.open3d.org/docs/release/tutorial/geometry/pointcloud.html#Planar-patch-detection. Similarly to *segment_plane()*, it is applied to an input point cloud. But, since the function does not make any change to that point cloud, you can apply it directly to *downpcd*.\n",
    "Note that the method requires that the input point cloud has normals. This is why a line was added to check that this is indeed the case.\n",
    "\n",
    "Look at the document and try to write the code (one line) in the code block below. You can run the following code block to visualise the results. Then, consider rerunning the algorithm with different parameter values. For example,\n",
    "the default value fo the parameter *normal_variance_threshold_deg* is 60 degrees; try to set it lower at 30 degrees."
   ]
  },
  {
   "cell_type": "code",
   "execution_count": 27,
   "metadata": {
    "colab": {
     "base_uri": "https://localhost:8080/"
    },
    "executionInfo": {
     "elapsed": 15451,
     "status": "ok",
     "timestamp": 1688369116698,
     "user": {
      "displayName": "Frédéric Bosché",
      "userId": "08198239712936543179"
     },
     "user_tz": -330
    },
    "id": "uVCUv7oypfWi",
    "outputId": "c364405c-7fce-479b-a82a-64a3e1aad7ab"
   },
   "outputs": [
    {
     "name": "stdout",
     "output_type": "stream",
     "text": [
      "Detected 199 patches\n"
     ]
    }
   ],
   "source": [
    "assert (downpcd.has_normals()), \"Point cloud should have normals, but doesn't\"\n",
    "\n",
    "if unitsInMeters == True :\n",
    "    my_min_plane_edge_length = 0.3\n",
    "else:\n",
    "    my_min_plane_edge_length = 300.0\n",
    "\n",
    "# INSERT YOUR CODE FOR EXTRACTING PLANAR PATCHES\n",
    "oboxes = downpcd.detect_planar_patches(\n",
    "    normal_variance_threshold_deg = 30,\n",
    "    coplanarity_deg = 75,\n",
    "    outlier_ratio = 0.75,\n",
    "    min_plane_edge_length = my_min_plane_edge_length,\n",
    "    min_num_points = 50,\n",
    "    search_param = o3d.geometry.KDTreeSearchParamKNN(knn=30))\n",
    "###################\n",
    "\n",
    "print(\"Detected {} patches\".format(len(oboxes)))"
   ]
  },
  {
   "cell_type": "code",
   "execution_count": 28,
   "metadata": {
    "colab": {
     "base_uri": "https://localhost:8080/",
     "height": 435
    },
    "executionInfo": {
     "elapsed": 1746,
     "status": "ok",
     "timestamp": 1688369129985,
     "user": {
      "displayName": "Frédéric Bosché",
      "userId": "08198239712936543179"
     },
     "user_tz": -330
    },
    "id": "wTciEqaajmbl",
    "outputId": "28a0ff4f-de9b-433b-e01e-20f1cb6cf3bc"
   },
   "outputs": [
    {
     "name": "stdout",
     "output_type": "stream",
     "text": [
      "Draw detected patches\n"
     ]
    }
   ],
   "source": [
    "print(\"Draw detected patches\")\n",
    "\n",
    "geometries = []\n",
    "\n",
    "for obox in oboxes:\n",
    "    mesh = o3d.geometry.TriangleMesh.create_from_oriented_bounding_box(obox)\n",
    "    mesh.paint_uniform_color(obox.color)\n",
    "\n",
    "    geometries.append(mesh)\n"
   ]
  },
  {
   "cell_type": "code",
   "execution_count": 29,
   "metadata": {},
   "outputs": [
    {
     "name": "stdout",
     "output_type": "stream",
     "text": [
      "[Open3D WARNING] GLFW Error: WGL: Failed to make context current: The requested transformation operation is not supported. \n"
     ]
    }
   ],
   "source": [
    "# Uncomment if using Google Colab\n",
    "#o3d.visualization.draw_plotly(geometries)\n",
    "\n",
    "# Uncomment if *not* using Google Colab\n",
    "o3d.visualization.draw_geometries(geometries)\n",
    "\n"
   ]
  },
  {
   "cell_type": "markdown",
   "metadata": {
    "id": "68Yhw7vfLYo0"
   },
   "source": [
    "The above visualisation code block works but it is hard to navigate the results due to the presence of planar patches a bit everywhere.\n",
    "In the code box below, insert the code to only show the patches that are not horizontal. This way we should hopefully be able to see all the mainly vertical patches and better assess the performance of the algorithm."
   ]
  },
  {
   "cell_type": "code",
   "execution_count": 30,
   "metadata": {
    "colab": {
     "base_uri": "https://localhost:8080/",
     "height": 435
    },
    "executionInfo": {
     "elapsed": 892,
     "status": "ok",
     "timestamp": 1688369220168,
     "user": {
      "displayName": "Frédéric Bosché",
      "userId": "08198239712936543179"
     },
     "user_tz": -330
    },
    "id": "ZOaSKuPspgsV",
    "outputId": "e9795014-aa99-4863-bedd-1d361abb07f9"
   },
   "outputs": [
    {
     "name": "stdout",
     "output_type": "stream",
     "text": [
      "Draw detected patches that are not horizontal\n"
     ]
    }
   ],
   "source": [
    "print(\"Draw detected patches that are not horizontal\")\n",
    "\n",
    "geometries = []\n",
    "z_axis = [0, 0, 1.0]\n",
    "\n",
    "# INSERT CODE TO ONLY SHOW THE PATCHES THAT ARE NOT HORIZONTAL\n",
    "for obox in oboxes:\n",
    "    normal = obox.R[:,2]\n",
    "    abs_dotproduct = np.absolute(np.dot(normal, z_axis))\n",
    "\n",
    "    if abs_dotproduct < 0.7 :\n",
    "        mesh = o3d.geometry.TriangleMesh.create_from_oriented_bounding_box(obox)\n",
    "        mesh.paint_uniform_color(obox.color)\n",
    "\n",
    "        geometries.append(mesh)\n",
    "###################\n"
   ]
  },
  {
   "cell_type": "code",
   "execution_count": 31,
   "metadata": {},
   "outputs": [],
   "source": [
    "# Uncomment if using Google Colab\n",
    "#o3d.visualization.draw_plotly(geometries)\n",
    "\n",
    "# Uncomment if *not* using Google Colab\n",
    "o3d.visualization.draw_geometries(geometries)\n"
   ]
  },
  {
   "cell_type": "markdown",
   "metadata": {
    "id": "DV7k5ZiuM10M"
   },
   "source": [
    "The above code blocks draw the extracted planar patches but not the points that support those patches. In the following, you asked to expand the previous code block with additional code (three lines of code) to also plot those supporting points. For this, consider using the following two functions.\n",
    "\n",
    "*   *get_point_indices_within_bounding_box()*: The *oboxes* are Orientated Bounding Boxes, i.e. oriented cuboids. In Open3D, Oriented Bounding Box objects have a built-in function to return the indices of the points from an input point cloud and that fall inside that bounding box. This is the function *get_point_indices_within_bounding_box()* documented at http://www.open3d.org/docs/release/python_api/open3d.geometry.OrientedBoundingBox.html#open3d.geometry.OrientedBoundingBox.get_point_indices_within_bounding_box.\n",
    "*   *select_by_index()*: In Open3D, pointcloud objects have this built-in function which enables outputting the sub-pointcloud containing only the points in the orginal point with the given list of indices."
   ]
  },
  {
   "cell_type": "code",
   "execution_count": 33,
   "metadata": {
    "colab": {
     "base_uri": "https://localhost:8080/",
     "height": 435
    },
    "executionInfo": {
     "elapsed": 3824,
     "status": "ok",
     "timestamp": 1688369275253,
     "user": {
      "displayName": "Frédéric Bosché",
      "userId": "08198239712936543179"
     },
     "user_tz": -330
    },
    "id": "rEh5Ym2Wp2GI",
    "outputId": "7ad59106-0771-4906-bd0a-b1de61a92e83"
   },
   "outputs": [
    {
     "name": "stdout",
     "output_type": "stream",
     "text": [
      "Draw detected patches that are not horizontal, alongside their respective point clouds\n"
     ]
    }
   ],
   "source": [
    "print(\"Draw detected patches that are not horizontal, alongside their respective point clouds\")\n",
    "\n",
    "geometries = []\n",
    "z_axis = [0, 0, 1.0]\n",
    "\n",
    "for obox in oboxes:\n",
    "    normal = obox.R[:,2]\n",
    "    abs_dotproduct = np.absolute(np.dot(normal, z_axis))\n",
    "\n",
    "    if abs_dotproduct < 0.80 :\n",
    "        mesh = o3d.geometry.TriangleMesh.create_from_oriented_bounding_box(obox)\n",
    "        mesh.paint_uniform_color(obox.color)\n",
    "\n",
    "        geometries.append(mesh)\n",
    "\n",
    "        #INSERT CODE TO ADD THE PATCH POINTS TO THE GEOMETRIES TO BE PLOTTED\n",
    "        inlier_indices = obox.get_point_indices_within_bounding_box(downpcd.points)\n",
    "        inlier_cloud = downpcd.select_by_index(inlier_indices)\n",
    "\n",
    "        geometries.append(inlier_cloud)\n",
    "        ###################\n"
   ]
  },
  {
   "cell_type": "code",
   "execution_count": null,
   "metadata": {},
   "outputs": [],
   "source": [
    "# Uncomment if using Google Colab\n",
    "#o3d.visualization.draw_plotly(geometries, point_sample_factor = 0.01)\n",
    "\n",
    "# Uncomment if *not* using Google Colab\n",
    "o3d.visualization.draw_geometries(geometries)"
   ]
  },
  {
   "cell_type": "markdown",
   "metadata": {
    "id": "zopIWJQrFixX"
   },
   "source": [
    "# 7 Classify Planar Patches\n",
    "\n",
    "The method above to extract planar patches works quite well, but clearly outputs any kind of planar patch and does not classify them. In the following, you will explore how we can classify those planar patches that represent the floor or ceiling of the space, and subsequently those that represent walls or columns."
   ]
  },
  {
   "cell_type": "markdown",
   "metadata": {
    "id": "G6Jvuj9YFlw5"
   },
   "source": [
    "## 7.1 Find floor/ceiling patches\n",
    "\n",
    "In the following code box, write the code to identify the planar patches that likely represent the floor and ceiling of the acquired space.\n",
    "For this, you will particularly need to know the main orientation of the bounding boxes which can be obtained from its parameter *R*. *R* is a 3x3 matrix that defines the orientation of the bounding box. *R[:,2]*, which is the third column of *R*, defines the orientation vector. For example, for the bounding box of a horizontal patch, *R[:,2] = [0, 0, 1.0]*.\n",
    "\n",
    "In the subsequent code block, write the code to visualise only those patches."
   ]
  },
  {
   "cell_type": "code",
   "execution_count": 34,
   "metadata": {
    "colab": {
     "base_uri": "https://localhost:8080/"
    },
    "executionInfo": {
     "elapsed": 558,
     "status": "ok",
     "timestamp": 1688369373867,
     "user": {
      "displayName": "Frédéric Bosché",
      "userId": "08198239712936543179"
     },
     "user_tz": -330
    },
    "id": "lVVrDc2ypi0B",
    "outputId": "8285ecc2-eeab-41e7-9f40-1757da497f78"
   },
   "outputs": [
    {
     "name": "stdout",
     "output_type": "stream",
     "text": [
      "Floor Heights:  [-0.1451285311339099, 762.3849897314894, 2796.115094756262]\n",
      "Bottom and Top Heights:  -0.1451285311339099  and  2796.115094756262\n",
      "obox Height:  762.3849897314894\n",
      "obox Height:  752.3261147181972\n",
      "obox Height:  735.3529077971933\n",
      "obox Height:  756.3492137221211\n",
      "obox Height:  2796.115094756262\n",
      "New Top Slab.\n",
      "obox Height:  2721.9960597191894\n",
      "New Top Slab.\n",
      "obox Height:  2807.8566044314107\n",
      "New Top Slab.\n",
      "obox Height:  2768.1090968595345\n",
      "New Top Slab.\n",
      "obox Height:  724.003032554654\n",
      "obox Height:  717.0945722264504\n",
      "obox Height:  2691.9076700092687\n",
      "New Top Slab.\n",
      "obox Height:  749.568638820517\n",
      "obox Height:  -0.1451285311339099\n",
      "New Bottom Slab.\n"
     ]
    }
   ],
   "source": [
    "largeHorizontalPatches = []\n",
    "\n",
    "if unitsInMeters == True :\n",
    "    minExtentMax = 2.0\n",
    "else:\n",
    "    minExtentMax = 2000.0\n",
    "\n",
    "z_axis = [0, 0, 1.0]\n",
    "\n",
    "# INSERT CODE HERE TO FIND THE HORIZONTAL PATCHES OF CEILING(S) and FLOOR(S):\n",
    "# Note: the code below is quite complicated. The students can come up with\n",
    "#       something much simpler and we can then show them this code.\n",
    "for obox in oboxes:\n",
    "    normal = obox.R[:,2]\n",
    "\n",
    "    abs_dotproduct = np.absolute(np.dot(normal, z_axis))\n",
    "\n",
    "    if abs_dotproduct > 0.80 : #horizontal patch\n",
    "\n",
    "        extentXY = np.delete(obox.extent, 2, 0)\n",
    "        extentMax = np.amax(extentXY)\n",
    "\n",
    "        if extentMax > minExtentMax : #large patch\n",
    "            largeHorizontalPatches.append(obox)\n",
    "\n",
    "\n",
    "floorHeights = []\n",
    "\n",
    "if unitsInMeters == True :\n",
    "    distance_to_slab = 0.2\n",
    "else:\n",
    "    distance_to_slab = 200\n",
    "\n",
    "for obox in largeHorizontalPatches :\n",
    "    if len(floorHeights) == 0 :\n",
    "        floorHeights.append(obox.center[2])\n",
    "    else :\n",
    "        newHeight = True\n",
    "        for height in floorHeights :\n",
    "            if np.absolute(height - obox.center[2]) < distance_to_slab :\n",
    "                newHeight = False\n",
    "\n",
    "        if newHeight == True :\n",
    "            floorHeights.append(obox.center[2])\n",
    "\n",
    "floorHeights.sort()\n",
    "\n",
    "print(\"Floor Heights: \", floorHeights)\n",
    "print(\"Bottom and Top Heights: \", floorHeights[0], \" and \", floorHeights[-1])\n",
    "\n",
    "\n",
    "topSlabs = []\n",
    "bottomSlabs = []\n",
    "\n",
    "for obox in largeHorizontalPatches :\n",
    "    print(\"obox Height: \", obox.center[2])\n",
    "    if np.absolute(floorHeights[-1] - obox.center[2]) < distance_to_slab :\n",
    "        topSlabs.append(obox)\n",
    "        print(\"New Top Slab.\")\n",
    "\n",
    "    if np.absolute(floorHeights[0] - obox.center[2]) < distance_to_slab :\n",
    "        bottomSlabs.append(obox)\n",
    "        print(\"New Bottom Slab.\")\n",
    "\n",
    "#####################\n"
   ]
  },
  {
   "cell_type": "code",
   "execution_count": 35,
   "metadata": {
    "colab": {
     "base_uri": "https://localhost:8080/",
     "height": 435
    },
    "executionInfo": {
     "elapsed": 594,
     "status": "ok",
     "timestamp": 1688369424659,
     "user": {
      "displayName": "Frédéric Bosché",
      "userId": "08198239712936543179"
     },
     "user_tz": -330
    },
    "id": "spw74upwpk2D",
    "outputId": "56bcfb5f-882d-4de2-c714-1691701c7e0a"
   },
   "outputs": [
    {
     "name": "stdout",
     "output_type": "stream",
     "text": [
      "Visualise floor/ceiling slab patches\n"
     ]
    }
   ],
   "source": [
    "print(\"Visualise floor/ceiling slab patches\")\n",
    "\n",
    "\n",
    "# INSERT CODE HERE TO FIND THE HORIZONTAL PATCHES OF CEILING(S) and FLOOR(S):\n",
    "# Note: In the previous codeblock they may not have distinguised top from bottom slabs,\n",
    "#       so their code here may involve just one for loop.\n",
    "HorizontalGeometries = []\n",
    "\n",
    "for slab in topSlabs:\n",
    "    slabMesh = o3d.geometry.TriangleMesh.create_from_oriented_bounding_box(slab, scale=[1, 1, 0.0001])\n",
    "    HorizontalGeometries.append(slabMesh)\n",
    "\n",
    "for slab in bottomSlabs:\n",
    "    slabMesh = o3d.geometry.TriangleMesh.create_from_oriented_bounding_box(slab, scale=[1, 1, 0.0001])\n",
    "    HorizontalGeometries.append(slabMesh)\n",
    "#####################\n"
   ]
  },
  {
   "cell_type": "code",
   "execution_count": 36,
   "metadata": {},
   "outputs": [],
   "source": [
    "# Uncomment if using Google Colab\n",
    "#o3d.visualization.draw_plotly(HorizontalGeometries, point_sample_factor = 0.01)\n",
    "\n",
    "# Uncomment if *not* using Google Colab\n",
    "o3d.visualization.draw_geometries(HorizontalGeometries)"
   ]
  },
  {
   "cell_type": "markdown",
   "metadata": {
    "id": "vXBt1dNVFtcw"
   },
   "source": [
    "## 7.2 Find walls / columns patches\n",
    "\n",
    "The code below now classify the patches that are likely walls or columns.\n",
    "Read the coce carefully to try to understand it, and then run it (and the following one) to see the results."
   ]
  },
  {
   "cell_type": "code",
   "execution_count": 37,
   "metadata": {
    "colab": {
     "base_uri": "https://localhost:8080/"
    },
    "executionInfo": {
     "elapsed": 1393,
     "status": "ok",
     "timestamp": 1688369457101,
     "user": {
      "displayName": "Frédéric Bosché",
      "userId": "08198239712936543179"
     },
     "user_tz": -330
    },
    "id": "stD7T4YFpmjX",
    "outputId": "ba86c3e9-538c-43d1-9804-e59ef5ab484b"
   },
   "outputs": [
    {
     "name": "stdout",
     "output_type": "stream",
     "text": [
      "Find walls, columns\n",
      "dimensions:  [ 874.11712242 2799.26285882   13.42337745]\n",
      "Max dimension:  2799.262858819458\n",
      "Height:  1398.744434305846\n",
      "New Wall.\n",
      "dimensions:  [ 981.20887144 2735.25390968   16.05997052]\n",
      "Max dimension:  2735.2539096813007\n",
      "Height:  1348.1030492052946\n",
      "New Wall.\n",
      "dimensions:  [ 761.70503576 2173.72184018   30.13750719]\n",
      "Max dimension:  2173.7218401761975\n",
      "Height:  1577.461114303241\n",
      "New Wall.\n",
      "dimensions:  [2003.50201375   92.95624712    6.56813341]\n",
      "Max dimension:  2003.5020137451797\n",
      "Height:  1041.506322529116\n",
      "New Not Wall.\n",
      "dimensions:  [1060.6560568  2766.30355786   14.99775011]\n",
      "Max dimension:  2766.3035578553304\n",
      "Height:  1350.0272558801353\n",
      "New Wall.\n",
      "dimensions:  [ 778.53495675 2447.46322338   14.39044045]\n",
      "Max dimension:  2447.4632233789985\n",
      "Height:  1492.1928562835624\n",
      "New Wall.\n",
      "dimensions:  [4782.89921645  597.68592663   10.87261041]\n",
      "Max dimension:  4782.899216448593\n",
      "Height:  503.6186075766617\n",
      "New Not Wall.\n",
      "dimensions:  [8963.30226446 2899.15902245   24.48088663]\n",
      "Max dimension:  8963.30226445886\n",
      "Height:  1381.119461144415\n",
      "New Wall.\n",
      "dimensions:  [2305.76002031 2826.30327933   20.84028575]\n",
      "Max dimension:  2826.3032793279535\n",
      "Height:  1396.1978817057739\n",
      "New Wall.\n",
      "dimensions:  [1120.17310952 2806.55142215   37.52286084]\n",
      "Max dimension:  2806.5514221527746\n",
      "Height:  1404.1355176751415\n",
      "New Wall.\n",
      "dimensions:  [4826.58706628  517.25164911   49.88083478]\n",
      "Max dimension:  4826.587066277069\n",
      "Height:  492.2333100132437\n",
      "New Not Wall.\n",
      "dimensions:  [1078.00358305 2659.83352006   17.49317489]\n",
      "Max dimension:  2659.8335200648216\n",
      "Height:  1441.240899116158\n",
      "New Wall.\n",
      "dimensions:  [ 342.98356043 2021.03871197   43.05000402]\n",
      "Max dimension:  2021.0387119716722\n",
      "Height:  1033.6296695901733\n",
      "New Not Wall.\n",
      "dimensions:  [2726.73484146  410.23918529   12.71085402]\n",
      "Max dimension:  2726.734841455122\n",
      "Height:  1402.2208684980237\n",
      "New Wall.\n",
      "dimensions:  [ 400.94528643 2794.14227117   39.49029247]\n",
      "Max dimension:  2794.1422711723403\n",
      "Height:  1347.3105593440537\n",
      "New Wall.\n",
      "dimensions:  [4841.91160732  761.72424624  127.07898325]\n",
      "Max dimension:  4841.911607315229\n",
      "Height:  425.862006122072\n",
      "New Not Wall.\n",
      "dimensions:  [2367.82247509 1879.97149773   41.14277818]\n",
      "Max dimension:  2367.822475088461\n",
      "Height:  1679.3808725588\n",
      "New Wall.\n",
      "dimensions:  [8383.3106526  2858.74117798 1493.52541442]\n",
      "Max dimension:  8383.310652600147\n",
      "Height:  1399.995412311826\n",
      "New Wall.\n",
      "dimensions:  [2775.66778191  402.54122315   29.12605573]\n",
      "Max dimension:  2775.667781909383\n",
      "Height:  1340.5571048031577\n",
      "New Wall.\n",
      "dimensions:  [4815.8803808   749.64963837  146.82757833]\n",
      "Max dimension:  4815.880380804452\n",
      "Height:  410.63572935231355\n",
      "New Not Wall.\n",
      "dimensions:  [ 839.77812433 2761.86472029   54.06981091]\n",
      "Max dimension:  2761.8647202900625\n",
      "Height:  1393.2247190710443\n",
      "New Wall.\n",
      "dimensions:  [2917.1651337  3734.99844767   97.22079487]\n",
      "Max dimension:  3734.998447671628\n",
      "Height:  1384.6999359698614\n",
      "New Wall.\n",
      "dimensions:  [13871.30607018  3129.63920567   119.43712969]\n",
      "Max dimension:  13871.30607017743\n",
      "Height:  1446.036786461803\n",
      "New Wall.\n",
      "dimensions:  [2791.07266683 1484.4653161    35.1877228 ]\n",
      "Max dimension:  2791.072666832486\n",
      "Height:  1442.5914675054776\n",
      "New Wall.\n",
      "dimensions:  [1328.58930187 2766.39212771   21.95652566]\n",
      "Max dimension:  2766.3921277135705\n",
      "Height:  1430.6019248502087\n",
      "New Wall.\n",
      "dimensions:  [2792.90453054 1806.59389265   29.08067543]\n",
      "Max dimension:  2792.9045305398986\n",
      "Height:  1388.595272381733\n",
      "New Wall.\n",
      "dimensions:  [ 189.21626829 2832.30963242   58.81484849]\n",
      "Max dimension:  2832.3096324222406\n",
      "Height:  1401.7453883324106\n",
      "New Wall.\n",
      "dimensions:  [ 576.99330902 2863.07385191   49.22610333]\n",
      "Max dimension:  2863.0738519097476\n",
      "Height:  1395.1844385937293\n",
      "New Wall.\n",
      "dimensions:  [2926.92525348 8448.01833195   32.35001507]\n",
      "Max dimension:  8448.018331949366\n",
      "Height:  1404.5700627185583\n",
      "New Wall.\n",
      "dimensions:  [2915.7046184  4752.67125562   49.55025496]\n",
      "Max dimension:  4752.671255615956\n",
      "Height:  1402.3384090796576\n",
      "New Wall.\n",
      "Count of largeVerticalPatches:  30\n",
      "Count of walls  24\n",
      "Count of notWalls:  6\n"
     ]
    }
   ],
   "source": [
    "print(\"Find walls, columns\")\n",
    "\n",
    "if unitsInMeters == True :\n",
    "    maxHeight = -100.0\n",
    "    minHeight = 100.0\n",
    "    minExtentMax = 2.0\n",
    "    threshold = 0.1\n",
    "else:\n",
    "    maxHeight = -100000.0\n",
    "    minHeight = 100000.0\n",
    "    minExtentMax = 2000.0\n",
    "    threshold = 100.0\n",
    "\n",
    "\n",
    "largeVerticalPatches = []\n",
    "walls = []\n",
    "notWalls = []\n",
    "\n",
    "z_axis = [0, 0, 1.0]\n",
    "\n",
    "for obox in oboxes:\n",
    "    normal = obox.R[:,2]\n",
    "    abs_dotproduct = np.absolute(np.dot(normal, z_axis))\n",
    "\n",
    "    if abs_dotproduct < 0.15 : #vertical patch\n",
    "\n",
    "        extentXY = np.delete(obox.extent, 2, 0)\n",
    "        extentMax = np.amax(extentXY)\n",
    "\n",
    "        if extentMax > minExtentMax : #large patch\n",
    "            print(\"dimensions: \", obox.extent)\n",
    "            print(\"Max dimension: \", extentMax)\n",
    "            print(\"Height: \", obox.center[2])\n",
    "            largeVerticalPatches.append(obox)\n",
    "\n",
    "            inlier_indices = obox.get_point_indices_within_bounding_box(downpcd.points)\n",
    "            inlier_cloud = downpcd.select_by_index(inlier_indices)\n",
    "            inlier_points = np.asarray(inlier_cloud.points)\n",
    "\n",
    "            heightmax = np.amax(inlier_points[:,2])\n",
    "            #print(\"heighest z value is:\", heightmax)\n",
    "\n",
    "            isWall = False\n",
    "\n",
    "            for slab in topSlabs:\n",
    "                if np.absolute(heightmax - slab.center[2]) < threshold :\n",
    "                    isWall = True\n",
    "\n",
    "            if isWall == True :\n",
    "                walls.append(obox)\n",
    "                print(\"New Wall.\")\n",
    "            else :\n",
    "                notWalls.append(obox)\n",
    "                print(\"New Not Wall.\")\n",
    "\n",
    "print(\"Count of largeVerticalPatches: \", len(largeVerticalPatches))\n",
    "print(\"Count of walls \", len(walls))\n",
    "print(\"Count of notWalls: \", len(notWalls))\n"
   ]
  },
  {
   "cell_type": "code",
   "execution_count": 39,
   "metadata": {
    "colab": {
     "base_uri": "https://localhost:8080/",
     "height": 435
    },
    "executionInfo": {
     "elapsed": 19,
     "status": "ok",
     "timestamp": 1688369515324,
     "user": {
      "displayName": "Frédéric Bosché",
      "userId": "08198239712936543179"
     },
     "user_tz": -330
    },
    "id": "LrhYk8_DpokX",
    "outputId": "554453ee-f295-4e85-80b8-af97bbdccf37"
   },
   "outputs": [
    {
     "name": "stdout",
     "output_type": "stream",
     "text": [
      "Visualise Walls, Columns\n"
     ]
    }
   ],
   "source": [
    "print(\"Visualise Walls, Columns\")\n",
    "\n",
    "VerticalGeometries = []\n",
    "\n",
    "for wall in walls:\n",
    "    wallMesh = o3d.geometry.TriangleMesh.create_from_oriented_bounding_box(wall, scale=[1, 1, 0.0001])\n",
    "    VerticalGeometries.append(wallMesh)\n"
   ]
  },
  {
   "cell_type": "code",
   "execution_count": 40,
   "metadata": {},
   "outputs": [],
   "source": [
    "# Uncomment if using Google Colab\n",
    "#o3d.visualization.draw_plotly(VerticalGeometries)\n",
    "\n",
    "# Uncomment if *not* using Google Colab\n",
    "o3d.visualization.draw_geometries(VerticalGeometries)\n"
   ]
  },
  {
   "cell_type": "markdown",
   "metadata": {
    "id": "5jDWjqG_F36k"
   },
   "source": [
    "# 8 Edge Extraction\n",
    "\n",
    "Another interesting feature to extract from point clouds of the built environment to support Scan-to-BIM and Scan-vs-BIM applications is \"edges\".  This process starts with identifying which points in the point cloud are located at edges (i.e. the intersections of two regular surfaces).\n",
    "\n",
    "The four code blocks below achieve this. The first two blocks import necessary libraries. The third block is the main block to find which points are at edges. The fourth block just draws the results."
   ]
  },
  {
   "cell_type": "code",
   "execution_count": 41,
   "metadata": {
    "colab": {
     "base_uri": "https://localhost:8080/"
    },
    "executionInfo": {
     "elapsed": 5381,
     "status": "ok",
     "timestamp": 1688369593557,
     "user": {
      "displayName": "Frédéric Bosché",
      "userId": "08198239712936543179"
     },
     "user_tz": -330
    },
    "id": "VgB66INKN6Hj",
    "outputId": "51a74a9c-c4b4-49f9-ceed-40efdd0019c6"
   },
   "outputs": [
    {
     "name": "stdout",
     "output_type": "stream",
     "text": [
      "Collecting pyntcloud\n",
      "  Obtaining dependency information for pyntcloud from https://files.pythonhosted.org/packages/93/38/8e67f280c571d256fa168cac1dfeec190659cf415dfea0e0771667d22b54/pyntcloud-0.3.1-py2.py3-none-any.whl.metadata\n",
      "  Downloading pyntcloud-0.3.1-py2.py3-none-any.whl.metadata (4.6 kB)\n",
      "Requirement already satisfied: numpy in c:\\programdata\\anaconda3\\lib\\site-packages (from pyntcloud) (1.24.3)\n",
      "Requirement already satisfied: scipy>=1.6.0 in c:\\programdata\\anaconda3\\lib\\site-packages (from pyntcloud) (1.10.1)\n",
      "Requirement already satisfied: pandas in c:\\programdata\\anaconda3\\lib\\site-packages (from pyntcloud) (1.5.3)\n",
      "Requirement already satisfied: python-dateutil>=2.8.1 in c:\\programdata\\anaconda3\\lib\\site-packages (from pandas->pyntcloud) (2.8.2)\n",
      "Requirement already satisfied: pytz>=2020.1 in c:\\programdata\\anaconda3\\lib\\site-packages (from pandas->pyntcloud) (2022.7)\n",
      "Requirement already satisfied: six>=1.5 in c:\\programdata\\anaconda3\\lib\\site-packages (from python-dateutil>=2.8.1->pandas->pyntcloud) (1.16.0)\n",
      "Downloading pyntcloud-0.3.1-py2.py3-none-any.whl (346 kB)\n",
      "   ---------------------------------------- 0.0/346.3 kB ? eta -:--:--\n",
      "   ----------------------- ---------------- 204.8/346.3 kB 6.3 MB/s eta 0:00:01\n",
      "   ---------------------------------------- 346.3/346.3 kB 5.4 MB/s eta 0:00:00\n",
      "Installing collected packages: pyntcloud\n",
      "Successfully installed pyntcloud-0.3.1\n"
     ]
    }
   ],
   "source": [
    "!pip install pyntcloud"
   ]
  },
  {
   "cell_type": "code",
   "execution_count": 42,
   "metadata": {
    "executionInfo": {
     "elapsed": 1561,
     "status": "ok",
     "timestamp": 1688369609595,
     "user": {
      "displayName": "Frédéric Bosché",
      "userId": "08198239712936543179"
     },
     "user_tz": -330
    },
    "id": "UXhf78D3N-Yo"
   },
   "outputs": [
    {
     "name": "stderr",
     "output_type": "stream",
     "text": [
      "C:\\ProgramData\\anaconda3\\Lib\\site-packages\\pyntcloud\\utils\\numba.py:4: NumbaDeprecationWarning:\n",
      "\n",
      "\u001b[1mThe 'nopython' keyword argument was not supplied to the 'numba.jit' decorator. The implicit default value for this argument is currently False, but it will be changed to True in Numba 0.59.0. See https://numba.readthedocs.io/en/stable/reference/deprecation.html#deprecation-of-object-mode-fall-back-behaviour-when-using-jit for details.\u001b[0m\n",
      "\n",
      "C:\\ProgramData\\anaconda3\\Lib\\site-packages\\pyntcloud\\utils\\numba.py:11: NumbaDeprecationWarning:\n",
      "\n",
      "\u001b[1mThe 'nopython' keyword argument was not supplied to the 'numba.jit' decorator. The implicit default value for this argument is currently False, but it will be changed to True in Numba 0.59.0. See https://numba.readthedocs.io/en/stable/reference/deprecation.html#deprecation-of-object-mode-fall-back-behaviour-when-using-jit for details.\u001b[0m\n",
      "\n",
      "C:\\ProgramData\\anaconda3\\Lib\\site-packages\\pyntcloud\\utils\\numba.py:18: NumbaDeprecationWarning:\n",
      "\n",
      "\u001b[1mThe 'nopython' keyword argument was not supplied to the 'numba.jit' decorator. The implicit default value for this argument is currently False, but it will be changed to True in Numba 0.59.0. See https://numba.readthedocs.io/en/stable/reference/deprecation.html#deprecation-of-object-mode-fall-back-behaviour-when-using-jit for details.\u001b[0m\n",
      "\n"
     ]
    }
   ],
   "source": [
    "from pyntcloud import PyntCloud\n",
    "\n",
    "import matplotlib.cm as cm"
   ]
  },
  {
   "cell_type": "code",
   "execution_count": 43,
   "metadata": {
    "colab": {
     "base_uri": "https://localhost:8080/"
    },
    "executionInfo": {
     "elapsed": 33374,
     "status": "ok",
     "timestamp": 1688369650641,
     "user": {
      "displayName": "Frédéric Bosché",
      "userId": "08198239712936543179"
     },
     "user_tz": -330
    },
    "id": "k5a-VLkxGVmR",
    "outputId": "14cad14b-da6a-4b94-9588-03dc0fa7b8e1"
   },
   "outputs": [
    {
     "name": "stdout",
     "output_type": "stream",
     "text": [
      "step 1 - Create a Pyntcloud object\n",
      "cloud has 1622720 points.\n",
      "Step 2 - Find Neighbors using KD Tree\n",
      "Step 3 - Calculate Eigenvalues\n",
      "step 4 - Convert Points back to Open3D cloud\n",
      "step 5 - Color points according points' first eigenvalues\n"
     ]
    }
   ],
   "source": [
    "# Create a Pyntcloud object\n",
    "print(\"step 1 - Create a Pyntcloud object\")\n",
    "\n",
    "pcd2 = PyntCloud.from_instance(\"open3d\", downpcd)\n",
    "\n",
    "print(\"cloud has\", len(pcd2.points), \"points.\")\n",
    "\n",
    "\n",
    "\n",
    "# Find Neighbors\n",
    "print(\"Step 2 - Find Neighbors using KD Tree\")\n",
    "\n",
    "k_n = 50\n",
    "\n",
    "kdtree_id = pcd2.add_structure(\"kdtree\")\n",
    "\n",
    "k_neighbors = pcd2.get_neighbors(k=k_n, kdtree=kdtree_id)\n",
    "\n",
    "\n",
    "\n",
    "# Calculate Eigenvalues for each point\n",
    "print(\"Step 3 - Calculate Eigenvalues\")\n",
    "\n",
    "ev = pcd2.add_scalar_field(\"eigen_values\", k_neighbors=k_neighbors)\n",
    "\n",
    "e1 = pcd2.points['e3('+str(k_n+1)+')'].values\n",
    "e2 = pcd2.points['e2('+str(k_n+1)+')'].values\n",
    "e3 = pcd2.points['e1('+str(k_n+1)+')'].values\n",
    "\n",
    "sum_eg = np.add(np.add(e1,e2),e3)\n",
    "\n",
    "sigma = np.divide(e1,sum_eg)\n",
    "\n",
    "\n",
    "\n",
    "# Convert Points back to Open3D cloud object\n",
    "print(\"step 4 - Convert Points back to Open3D cloud\")\n",
    "\n",
    "converted_pcd2 = pcd2.to_instance(\"open3d\", mesh=False)\n",
    "\n",
    "\n",
    "\n",
    "# Colour points according to the points' first eigenvalues\n",
    "print(\"step 5 - Color points according points' first eigenvalues\")\n",
    "\n",
    "cmap = cm.hot\n",
    "m = cm.ScalarMappable(cmap=cmap)\n",
    "n = m.to_rgba(sigma)\n",
    "eigen_colors = np.delete(n,2,1)\n",
    "\n",
    "converted_pcd2.colors = o3d.utility.Vector3dVector(eigen_colors)\n"
   ]
  },
  {
   "cell_type": "code",
   "execution_count": 44,
   "metadata": {
    "colab": {
     "background_save": true,
     "base_uri": "https://localhost:8080/",
     "output_embedded_package_id": "1qIslBwjHAsZNJyOU51dx7sA33MPY6j7U"
    },
    "executionInfo": {
     "elapsed": 4256,
     "status": "ok",
     "timestamp": 1688369714291,
     "user": {
      "displayName": "Frédéric Bosché",
      "userId": "08198239712936543179"
     },
     "user_tz": -330
    },
    "id": "ot-1tXgopxvE",
    "outputId": "287c320c-9a09-4389-ab2a-72f83353e8f3"
   },
   "outputs": [
    {
     "name": "stdout",
     "output_type": "stream",
     "text": [
      "draw points with colors set based on the first eigenvalue\n"
     ]
    }
   ],
   "source": [
    "print(\"draw points with colors set based on the first eigenvalue\")\n",
    "\n",
    "# Uncomment if using Google Colab\n",
    "#o3d.visualization.draw_plotly([converted_pcd2], point_sample_factor = 0.3)\n",
    "\n",
    "# Uncomment if *not* using Google Colab\n",
    "o3d.visualization.draw_geometries([converted_pcd2])\n"
   ]
  },
  {
   "cell_type": "markdown",
   "metadata": {
    "id": "elljGaUoJZW1"
   },
   "source": [
    "# 9 Save results\n",
    "\n",
    "Note that we have so far plotted results but never saved the resulting point clouds and meshes as files. The code blocks below illustrate how you can do this with Open3D and PyntCloud (for the edge points)"
   ]
  },
  {
   "cell_type": "markdown",
   "metadata": {
    "id": "Uj8eYq5Oh9D8"
   },
   "source": [
    "## 9.1 Save Point Clouds\n",
    "\n",
    "Open3D provides the function *write_point_cloud()* to save a point cloud into a file. The function is documented at http://www.open3d.org/docs/release/python_api/open3d.io.write_point_cloud.html#open3d-io-write-point-cloud and illustrated at http://www.open3d.org/docs/release/tutorial/geometry/file_io.html#Point-cloud\n",
    "\n",
    "Note that Open3D can write files in the formats *xyz*, *xyzn*, *xyzrgb*, *pts*, *ply* and *pcd*.\n",
    "\n",
    "After running the code below, the corresponding PLY file will appear in your Google Drive folder."
   ]
  },
  {
   "cell_type": "code",
   "execution_count": null,
   "metadata": {},
   "outputs": [],
   "source": [
    "# Use if using Google Colab\n",
    "savingPathDownPCD = '/content/drive/MyDrive/downsampled_pointcloud.ply'\n",
    "print(savingPathDownPCD)\n"
   ]
  },
  {
   "cell_type": "code",
   "execution_count": null,
   "metadata": {},
   "outputs": [],
   "source": [
    "# Use if *not* using Google Colab\n",
    "path_noExtension = Path(path).stem\n",
    "filenamePCD_out = fileMESH_noExtension + '.pcd'\n",
    "filepathPCD_out = join(folder_selected,filenamePCD_out)\n",
    "savingPathDownPCD = \n",
    "print(savingPathDownPCD)"
   ]
  },
  {
   "cell_type": "code",
   "execution_count": null,
   "metadata": {
    "id": "h4U6gGb5W3lj"
   },
   "outputs": [],
   "source": [
    "o3d.io.write_point_cloud(savingPathDownPCD, downpcd)"
   ]
  },
  {
   "cell_type": "markdown",
   "metadata": {
    "id": "gox95fEBiFE8"
   },
   "source": [
    "## 9.2 Save the Patches\n",
    "\n",
    "Similarly, one can save the patches (bounding boxes) using the built-in Open3D function to save meshes *write_triangle_mesh()* documented at http://www.open3d.org/docs/release/python_api/open3d.io.write_triangle_mesh.html#open3d-io-write-triangle-mesh and illustrated at http://www.open3d.org/docs/release/tutorial/geometry/file_io.html#Mesh\n",
    "\n",
    "Note that Open3D can write files in the formats *ply*, *stl*, *obj*, *off*, and *gltf*/*glb*.\n",
    "\n",
    "After running the code below, the corresponding PLY file will appear in your Google Drive folder."
   ]
  },
  {
   "cell_type": "code",
   "execution_count": null,
   "metadata": {
    "id": "m_ur2dl7Xxfq"
   },
   "outputs": [],
   "source": [
    "wallMesh = o3d.geometry.TriangleMesh.create_from_oriented_bounding_box(walls[0])\n"
   ]
  },
  {
   "cell_type": "code",
   "execution_count": null,
   "metadata": {},
   "outputs": [],
   "source": [
    "# Use if using Google Colab\n",
    "savingPathPatches = \"/content/drive/MyDrive/obox1.ply\"\n",
    "print(savingPathPatches)\n"
   ]
  },
  {
   "cell_type": "code",
   "execution_count": null,
   "metadata": {},
   "outputs": [],
   "source": [
    "# Use if *not* using Google Colab\n",
    "\n",
    "savingPathPatches =\n",
    "print(savingPathPatches)\n"
   ]
  },
  {
   "cell_type": "code",
   "execution_count": null,
   "metadata": {},
   "outputs": [],
   "source": [
    "o3d.io.write_triangle_mesh(savingPathPatches, wallMesh)"
   ]
  },
  {
   "cell_type": "markdown",
   "metadata": {
    "id": "zYXnGz1KlCKa"
   },
   "source": [
    "# 10 Scan-vs-BIM (colour-coding based on point-mesh proximity)\n",
    "\n",
    "In this section, we explore another process commnly considered in Scan-vs-BIM processing pipelines.\n",
    "Given a point cloud of an existing building for which we already have a BIM model, let's compare the two to compare discrepencies.\n",
    "\n",
    "Let's first load a the triangular mesh defining the geometry of all the elements in one of the rooms in the point cloud above.\n",
    "Note that the geometry is expressed in the same coordinate system.\n",
    "To show this, we first plot just the mesh, but then plot both the mesh and point cloud"
   ]
  },
  {
   "cell_type": "code",
   "execution_count": null,
   "metadata": {
    "id": "bV8cUD4DarLI"
   },
   "outputs": [],
   "source": [
    "# Use if using Google Colab\n",
    "print(\"Load OBJ mesh located in Google Drive\")\n",
    "\n",
    "path_obj = \"/content/drive/MyDrive/Data-Processing/IITM_RamanujanHall1.obj\"\n",
    "\n"
   ]
  },
  {
   "cell_type": "code",
   "execution_count": 45,
   "metadata": {},
   "outputs": [
    {
     "name": "stdout",
     "output_type": "stream",
     "text": [
      "Load OBJ mesh located in local folder\n",
      "G:/My Drive/Data-Processing/IITM_RamanujanHall1.obj\n"
     ]
    }
   ],
   "source": [
    "print(\"Load OBJ mesh located in local folder\")\n",
    "\n",
    "# Select the \"IITM_RamanujanHall1.obj\" point cloud\n",
    "\n",
    "path_obj = filedialog.askopenfilename(title=\"Select file of Mesh\")\n",
    "print(path_obj)\n"
   ]
  },
  {
   "cell_type": "code",
   "execution_count": 46,
   "metadata": {},
   "outputs": [
    {
     "name": "stdout",
     "output_type": "stream",
     "text": [
      "TriangleMesh with 119924 points and 161644 triangles.\n"
     ]
    }
   ],
   "source": [
    "mesh = o3d.io.read_triangle_mesh(path_obj)\n",
    "print(mesh)\n"
   ]
  },
  {
   "cell_type": "code",
   "execution_count": 47,
   "metadata": {
    "id": "M_YUZB1qoOAl"
   },
   "outputs": [
    {
     "name": "stdout",
     "output_type": "stream",
     "text": [
      "[Open3D WARNING] GLFW Error: WGL: Failed to make context current: The handle is invalid. \n"
     ]
    }
   ],
   "source": [
    "# Uncomment if using Google Colab\n",
    "#o3d.visualization.draw_plotly([mesh])\n",
    "#o3d.visualization.draw_plotly([mesh]+[downpcd])\n",
    "\n",
    "# Uncomment if *not* using Google Colab\n",
    "o3d.visualization.draw_geometries([mesh])\n",
    "o3d.visualization.draw_geometries([mesh]+[downpcd])\n"
   ]
  },
  {
   "cell_type": "markdown",
   "metadata": {
    "id": "ltRq0oXOoktb"
   },
   "source": [
    "We now calculate the distance of each point in the point cloud to the closest triangle in the mesh, and colour the points according to that distance"
   ]
  },
  {
   "cell_type": "code",
   "execution_count": 48,
   "metadata": {
    "id": "0DRBtCTNlIVS"
   },
   "outputs": [],
   "source": [
    "import matplotlib.cm as cm"
   ]
  },
  {
   "cell_type": "code",
   "execution_count": 49,
   "metadata": {
    "id": "KByDIWoHY0uw"
   },
   "outputs": [
    {
     "name": "stdout",
     "output_type": "stream",
     "text": [
      "Scan-vs-BIM: matching points to mesh based with proximity threshold\n"
     ]
    }
   ],
   "source": [
    "print(\"Scan-vs-BIM: matching points to mesh based with proximity threshold\")\n",
    "\n",
    "downpcd_svb = copy.deepcopy(downpcd)\n",
    "\n",
    "# sample mesh surface\n",
    "mesh_samples = mesh.sample_points_uniformly(number_of_points=len(downpcd.points))\n",
    "\n",
    "# calculate distance between point cloud and mesh samples\n",
    "dists = downpcd_svb.compute_point_cloud_distance(mesh_samples)\n",
    "dists = np.asarray(dists)\n",
    "\n",
    "# get sub-point cloud whose points are at most dist_min from the mesh\n",
    "# and sub-point cloud with the remaining points\n",
    "if unitsInMeters == True :\n",
    "    dist_max = 0.05\n",
    "else:\n",
    "    dist_max = 50.0\n",
    "\n",
    "ind = np.where(dists < dist_max)[0]\n",
    "pcd_matching_mesh = downpcd_svb.select_by_index(ind)\n",
    "pcd_not_matching_mesh = downpcd_svb.select_by_index(ind, invert = True)\n",
    "\n",
    "# colorise matching sub-point cloud based on distance to mesh\n",
    "dists2 = pcd_matching_mesh.compute_point_cloud_distance(mesh_samples)\n",
    "dists2 = np.asarray(dists2)\n",
    "\n",
    "cmap = cm.hot\n",
    "m = cm.ScalarMappable(cmap=cmap)\n",
    "dist2_unit = dists2/dist_max\n",
    "dist2_rgb = m.to_rgba(dist2_unit )\n",
    "dist2_colors = np.delete(dist2_rgb,2,1)\n",
    "pcd_matching_mesh.colors = o3d.utility.Vector3dVector(dist2_colors)\n"
   ]
  },
  {
   "cell_type": "markdown",
   "metadata": {
    "id": "GugOc79fpBx2"
   },
   "source": [
    "The code block below enables you to visualise the results. Three plots are provided:\n",
    "\n",
    "*   Showing only the points that were found to be within *dist_max* of the mesh and colored based on their distance. These points are close to the mesh and may thus be considered to correspond to the elements in the mesh.\n",
    "*   The same as above with the mesh.\n",
    "*   Showing only the points that were found to be further than *dist_max* of the mesh. These points can be considered to correspond to none of the elements in the mesh.\n",
    "\n"
   ]
  },
  {
   "cell_type": "code",
   "execution_count": 50,
   "metadata": {
    "colab": {
     "background_save": true,
     "output_embedded_package_id": "1K_jGf8z9avUHZspTMeWEXR4KbWVtPhor"
    },
    "id": "c53Z46oofqlB",
    "outputId": "967b6d3d-279b-4352-adee-637f571421e7"
   },
   "outputs": [],
   "source": [
    "\n",
    "\n",
    "# Uncomment if using Google Colab\n",
    "#o3d.visualization.draw_plotly([pcd_matching_mesh], point_sample_factor=0.3)\n",
    "#o3d.visualization.draw_plotly([pcd_matching_mesh]+[mesh], point_sample_factor=0.3)\n",
    "#o3d.visualization.draw_plotly([pcd_not_matching_mesh], point_sample_factor=0.2)\n",
    "\n",
    "# Uncomment if *not* using Google Colab\n",
    "o3d.visualization.draw_geometries([pcd_matching_mesh])\n",
    "o3d.visualization.draw_geometries([pcd_matching_mesh]+[mesh])\n",
    "o3d.visualization.draw_geometries([pcd_not_matching_mesh])"
   ]
  },
  {
   "cell_type": "markdown",
   "metadata": {
    "id": "dx0Hc0vw8BVy"
   },
   "source": [
    "# 11 Semantic Segmentation using Machine Learning\n",
    "\n",
    "!!!!!!!!!!!!!!!!!!!!!!\n",
    "\n",
    "This section can only be easily run in Google Colab\n",
    "\n",
    "!!!!!!!!!!!!!!!!!!!!!!\n"
   ]
  },
  {
   "cell_type": "code",
   "execution_count": 51,
   "metadata": {
    "id": "sLSPHMituG2c"
   },
   "outputs": [
    {
     "name": "stdout",
     "output_type": "stream",
     "text": [
      "Requirement already satisfied: open3d in c:\\programdata\\anaconda3\\lib\\site-packages (0.18.0)\n",
      "Requirement already satisfied: numpy>=1.18.0 in c:\\programdata\\anaconda3\\lib\\site-packages (from open3d) (1.24.3)\n",
      "Requirement already satisfied: dash>=2.6.0 in c:\\programdata\\anaconda3\\lib\\site-packages (from open3d) (2.15.0)\n",
      "Requirement already satisfied: werkzeug>=2.2.3 in c:\\programdata\\anaconda3\\lib\\site-packages (from open3d) (2.2.3)\n",
      "Requirement already satisfied: nbformat>=5.7.0 in c:\\programdata\\anaconda3\\lib\\site-packages (from open3d) (5.7.0)\n",
      "Requirement already satisfied: configargparse in c:\\programdata\\anaconda3\\lib\\site-packages (from open3d) (1.7)\n",
      "Requirement already satisfied: ipywidgets>=8.0.4 in c:\\programdata\\anaconda3\\lib\\site-packages (from open3d) (8.0.4)\n",
      "Requirement already satisfied: Flask<3.1,>=1.0.4 in c:\\programdata\\anaconda3\\lib\\site-packages (from dash>=2.6.0->open3d) (2.2.2)\n",
      "Requirement already satisfied: plotly>=5.0.0 in c:\\programdata\\anaconda3\\lib\\site-packages (from dash>=2.6.0->open3d) (5.9.0)\n",
      "Requirement already satisfied: dash-html-components==2.0.0 in c:\\programdata\\anaconda3\\lib\\site-packages (from dash>=2.6.0->open3d) (2.0.0)\n",
      "Requirement already satisfied: dash-core-components==2.0.0 in c:\\programdata\\anaconda3\\lib\\site-packages (from dash>=2.6.0->open3d) (2.0.0)\n",
      "Requirement already satisfied: dash-table==5.0.0 in c:\\programdata\\anaconda3\\lib\\site-packages (from dash>=2.6.0->open3d) (5.0.0)\n",
      "Requirement already satisfied: typing-extensions>=4.1.1 in c:\\programdata\\anaconda3\\lib\\site-packages (from dash>=2.6.0->open3d) (4.7.1)\n",
      "Requirement already satisfied: requests in c:\\programdata\\anaconda3\\lib\\site-packages (from dash>=2.6.0->open3d) (2.31.0)\n",
      "Requirement already satisfied: retrying in c:\\programdata\\anaconda3\\lib\\site-packages (from dash>=2.6.0->open3d) (1.3.4)\n",
      "Requirement already satisfied: nest-asyncio in c:\\programdata\\anaconda3\\lib\\site-packages (from dash>=2.6.0->open3d) (1.5.6)\n",
      "Requirement already satisfied: setuptools in c:\\programdata\\anaconda3\\lib\\site-packages (from dash>=2.6.0->open3d) (68.0.0)\n",
      "Requirement already satisfied: importlib-metadata in c:\\programdata\\anaconda3\\lib\\site-packages (from dash>=2.6.0->open3d) (6.0.0)\n",
      "Requirement already satisfied: ipykernel>=4.5.1 in c:\\programdata\\anaconda3\\lib\\site-packages (from ipywidgets>=8.0.4->open3d) (6.19.2)\n",
      "Requirement already satisfied: ipython>=6.1.0 in c:\\programdata\\anaconda3\\lib\\site-packages (from ipywidgets>=8.0.4->open3d) (8.12.0)\n",
      "Requirement already satisfied: traitlets>=4.3.1 in c:\\programdata\\anaconda3\\lib\\site-packages (from ipywidgets>=8.0.4->open3d) (5.7.1)\n",
      "Requirement already satisfied: widgetsnbextension~=4.0 in c:\\programdata\\anaconda3\\lib\\site-packages (from ipywidgets>=8.0.4->open3d) (4.0.5)\n",
      "Requirement already satisfied: jupyterlab-widgets~=3.0 in c:\\programdata\\anaconda3\\lib\\site-packages (from ipywidgets>=8.0.4->open3d) (3.0.5)\n",
      "Requirement already satisfied: fastjsonschema in c:\\programdata\\anaconda3\\lib\\site-packages (from nbformat>=5.7.0->open3d) (2.16.2)\n",
      "Requirement already satisfied: jsonschema>=2.6 in c:\\programdata\\anaconda3\\lib\\site-packages (from nbformat>=5.7.0->open3d) (4.17.3)\n",
      "Requirement already satisfied: jupyter-core in c:\\programdata\\anaconda3\\lib\\site-packages (from nbformat>=5.7.0->open3d) (5.3.0)\n",
      "Requirement already satisfied: MarkupSafe>=2.1.1 in c:\\programdata\\anaconda3\\lib\\site-packages (from werkzeug>=2.2.3->open3d) (2.1.1)\n",
      "Requirement already satisfied: Jinja2>=3.0 in c:\\programdata\\anaconda3\\lib\\site-packages (from Flask<3.1,>=1.0.4->dash>=2.6.0->open3d) (3.1.2)\n",
      "Requirement already satisfied: itsdangerous>=2.0 in c:\\programdata\\anaconda3\\lib\\site-packages (from Flask<3.1,>=1.0.4->dash>=2.6.0->open3d) (2.0.1)\n",
      "Requirement already satisfied: click>=8.0 in c:\\programdata\\anaconda3\\lib\\site-packages (from Flask<3.1,>=1.0.4->dash>=2.6.0->open3d) (8.0.4)\n",
      "Requirement already satisfied: comm>=0.1.1 in c:\\programdata\\anaconda3\\lib\\site-packages (from ipykernel>=4.5.1->ipywidgets>=8.0.4->open3d) (0.1.2)\n",
      "Requirement already satisfied: debugpy>=1.0 in c:\\programdata\\anaconda3\\lib\\site-packages (from ipykernel>=4.5.1->ipywidgets>=8.0.4->open3d) (1.6.7)\n",
      "Requirement already satisfied: jupyter-client>=6.1.12 in c:\\programdata\\anaconda3\\lib\\site-packages (from ipykernel>=4.5.1->ipywidgets>=8.0.4->open3d) (7.4.9)\n",
      "Requirement already satisfied: matplotlib-inline>=0.1 in c:\\programdata\\anaconda3\\lib\\site-packages (from ipykernel>=4.5.1->ipywidgets>=8.0.4->open3d) (0.1.6)\n",
      "Requirement already satisfied: packaging in c:\\programdata\\anaconda3\\lib\\site-packages (from ipykernel>=4.5.1->ipywidgets>=8.0.4->open3d) (23.0)\n",
      "Requirement already satisfied: psutil in c:\\programdata\\anaconda3\\lib\\site-packages (from ipykernel>=4.5.1->ipywidgets>=8.0.4->open3d) (5.9.0)\n",
      "Requirement already satisfied: pyzmq>=17 in c:\\programdata\\anaconda3\\lib\\site-packages (from ipykernel>=4.5.1->ipywidgets>=8.0.4->open3d) (23.2.0)\n",
      "Requirement already satisfied: tornado>=6.1 in c:\\programdata\\anaconda3\\lib\\site-packages (from ipykernel>=4.5.1->ipywidgets>=8.0.4->open3d) (6.3.2)\n",
      "Requirement already satisfied: backcall in c:\\programdata\\anaconda3\\lib\\site-packages (from ipython>=6.1.0->ipywidgets>=8.0.4->open3d) (0.2.0)\n",
      "Requirement already satisfied: decorator in c:\\programdata\\anaconda3\\lib\\site-packages (from ipython>=6.1.0->ipywidgets>=8.0.4->open3d) (5.1.1)\n",
      "Requirement already satisfied: jedi>=0.16 in c:\\programdata\\anaconda3\\lib\\site-packages (from ipython>=6.1.0->ipywidgets>=8.0.4->open3d) (0.18.1)\n",
      "Requirement already satisfied: pickleshare in c:\\programdata\\anaconda3\\lib\\site-packages (from ipython>=6.1.0->ipywidgets>=8.0.4->open3d) (0.7.5)\n",
      "Requirement already satisfied: prompt-toolkit!=3.0.37,<3.1.0,>=3.0.30 in c:\\programdata\\anaconda3\\lib\\site-packages (from ipython>=6.1.0->ipywidgets>=8.0.4->open3d) (3.0.36)\n",
      "Requirement already satisfied: pygments>=2.4.0 in c:\\programdata\\anaconda3\\lib\\site-packages (from ipython>=6.1.0->ipywidgets>=8.0.4->open3d) (2.15.1)\n",
      "Requirement already satisfied: stack-data in c:\\programdata\\anaconda3\\lib\\site-packages (from ipython>=6.1.0->ipywidgets>=8.0.4->open3d) (0.2.0)\n",
      "Requirement already satisfied: colorama in c:\\programdata\\anaconda3\\lib\\site-packages (from ipython>=6.1.0->ipywidgets>=8.0.4->open3d) (0.4.6)\n",
      "Requirement already satisfied: attrs>=17.4.0 in c:\\programdata\\anaconda3\\lib\\site-packages (from jsonschema>=2.6->nbformat>=5.7.0->open3d) (22.1.0)\n",
      "Requirement already satisfied: pyrsistent!=0.17.0,!=0.17.1,!=0.17.2,>=0.14.0 in c:\\programdata\\anaconda3\\lib\\site-packages (from jsonschema>=2.6->nbformat>=5.7.0->open3d) (0.18.0)\n",
      "Requirement already satisfied: tenacity>=6.2.0 in c:\\programdata\\anaconda3\\lib\\site-packages (from plotly>=5.0.0->dash>=2.6.0->open3d) (8.2.2)\n",
      "Requirement already satisfied: zipp>=0.5 in c:\\programdata\\anaconda3\\lib\\site-packages (from importlib-metadata->dash>=2.6.0->open3d) (3.11.0)\n",
      "Requirement already satisfied: platformdirs>=2.5 in c:\\programdata\\anaconda3\\lib\\site-packages (from jupyter-core->nbformat>=5.7.0->open3d) (2.5.2)\n",
      "Requirement already satisfied: pywin32>=300 in c:\\programdata\\anaconda3\\lib\\site-packages (from jupyter-core->nbformat>=5.7.0->open3d) (305.1)\n",
      "Requirement already satisfied: charset-normalizer<4,>=2 in c:\\programdata\\anaconda3\\lib\\site-packages (from requests->dash>=2.6.0->open3d) (2.0.4)\n",
      "Requirement already satisfied: idna<4,>=2.5 in c:\\programdata\\anaconda3\\lib\\site-packages (from requests->dash>=2.6.0->open3d) (3.4)\n",
      "Requirement already satisfied: urllib3<3,>=1.21.1 in c:\\programdata\\anaconda3\\lib\\site-packages (from requests->dash>=2.6.0->open3d) (1.26.16)\n",
      "Requirement already satisfied: certifi>=2017.4.17 in c:\\programdata\\anaconda3\\lib\\site-packages (from requests->dash>=2.6.0->open3d) (2024.2.2)\n",
      "Requirement already satisfied: six>=1.7.0 in c:\\programdata\\anaconda3\\lib\\site-packages (from retrying->dash>=2.6.0->open3d) (1.16.0)\n",
      "Requirement already satisfied: parso<0.9.0,>=0.8.0 in c:\\programdata\\anaconda3\\lib\\site-packages (from jedi>=0.16->ipython>=6.1.0->ipywidgets>=8.0.4->open3d) (0.8.3)\n",
      "Requirement already satisfied: entrypoints in c:\\programdata\\anaconda3\\lib\\site-packages (from jupyter-client>=6.1.12->ipykernel>=4.5.1->ipywidgets>=8.0.4->open3d) (0.4)\n",
      "Requirement already satisfied: python-dateutil>=2.8.2 in c:\\programdata\\anaconda3\\lib\\site-packages (from jupyter-client>=6.1.12->ipykernel>=4.5.1->ipywidgets>=8.0.4->open3d) (2.8.2)\n",
      "Requirement already satisfied: wcwidth in c:\\programdata\\anaconda3\\lib\\site-packages (from prompt-toolkit!=3.0.37,<3.1.0,>=3.0.30->ipython>=6.1.0->ipywidgets>=8.0.4->open3d) (0.2.5)\n",
      "Requirement already satisfied: executing in c:\\programdata\\anaconda3\\lib\\site-packages (from stack-data->ipython>=6.1.0->ipywidgets>=8.0.4->open3d) (0.8.3)\n",
      "Requirement already satisfied: asttokens in c:\\programdata\\anaconda3\\lib\\site-packages (from stack-data->ipython>=6.1.0->ipywidgets>=8.0.4->open3d) (2.0.5)\n",
      "Requirement already satisfied: pure-eval in c:\\programdata\\anaconda3\\lib\\site-packages (from stack-data->ipython>=6.1.0->ipywidgets>=8.0.4->open3d) (0.2.2)\n"
     ]
    }
   ],
   "source": [
    "!pip install open3d\n",
    "!pip install -q torch_geometric"
   ]
  },
  {
   "cell_type": "markdown",
   "metadata": {
    "id": "9VoxdvuiuLfV"
   },
   "source": [
    "Note: the code below is something I started. Just replace with anything you have. Maybe this needs to be updated."
   ]
  },
  {
   "cell_type": "code",
   "execution_count": 52,
   "metadata": {
    "id": "6BEgarHVBUkP"
   },
   "outputs": [
    {
     "name": "stderr",
     "output_type": "stream",
     "text": [
      "Cloning into 'Open3D-ML'...\n",
      "ERROR: Could not open requirements file: [Errno 2] No such file or directory: '/content/Open3D-ML/requirements-torch-cuda.txt'\n"
     ]
    }
   ],
   "source": [
    "# Setting up preliminaries\n",
    "\n",
    "!git clone https://github.com/intel-isl/Open3D-ML.git\n",
    "!pip install -r /content/Open3D-ML/requirements-torch-cuda.txt"
   ]
  },
  {
   "cell_type": "code",
   "execution_count": null,
   "metadata": {
    "id": "V8rlLaYrCqTd"
   },
   "outputs": [],
   "source": [
    "# Setting up Open3D and PyTorch\n",
    "import os\n",
    "import numpy as np\n",
    "import copy\n",
    "import open3d as o3d\n",
    "import open3d.ml as _ml3d\n",
    "import open3d.ml.torch as ml3d"
   ]
  },
  {
   "cell_type": "code",
   "execution_count": null,
   "metadata": {
    "id": "FwDQwFKcAYfy"
   },
   "outputs": [],
   "source": [
    "# Verify Torch installation and corresponding cuda version\n",
    "# Torch installation\n",
    "import torch as pyt\n",
    "print(pyt.__version__)\n",
    "print(pyt.cuda.is_available())\n",
    "# Torch geometric installation\n",
    "import torch_geometric.transforms as T"
   ]
  },
  {
   "cell_type": "markdown",
   "metadata": {
    "id": "jAA3vIxtBAP-"
   },
   "source": [
    "Copy or Download the Open3DML repository from this link [Github](https://github.com/isl-org/Open3D-ML/tree/master). Then copy the config directory to a location in your Google Drive and locate the folder in the **cfg_file** parameter below"
   ]
  },
  {
   "cell_type": "code",
   "execution_count": null,
   "metadata": {
    "id": "NqiEC1EgArOx"
   },
   "outputs": [],
   "source": [
    "# Locate configuration file from Open3D download in colab\n",
    "framework = \"torch\"\n",
    "#cfg_file = \"/content/drive/My Drive/<path to config>/configs/randlanet_semantickitti.yml\"\n",
    "cfg_file = \"/content/drive/My Drive/Data-Processing/ml3d/configs/randlanet_semantickitti.yml\"\n",
    "cfg = _ml3d.utils.Config.load_from_file(cfg_file)"
   ]
  },
  {
   "cell_type": "markdown",
   "metadata": {
    "id": "6XxPemwEE_9A"
   },
   "source": [
    "We now setup a color map so that each semantic segment can get its own individual color"
   ]
  },
  {
   "cell_type": "code",
   "execution_count": null,
   "metadata": {
    "colab": {
     "background_save": true
    },
    "id": "15EJyq4RBh3L"
   },
   "outputs": [],
   "source": [
    "#Setup the color map for Semantic Segmentation\n",
    "COLOR_MAP = {\n",
    "    0: (0, 0, 0),\n",
    "    1: (245, 150, 100),\n",
    "    2: (245, 230, 100),\n",
    "    3: (150, 60, 30),\n",
    "    4: (180, 30, 80),\n",
    "    5: (255, 0., 0),\n",
    "    6: (30, 30, 255),\n",
    "    7: (200, 40, 255),\n",
    "    8: (90, 30, 150),\n",
    "    9: (255, 0, 255),\n",
    "    10: (255, 150, 255),\n",
    "    11: (75, 0, 75),\n",
    "    12: (75, 0., 175),\n",
    "    13: (0, 200, 255),\n",
    "    14: (50, 120, 255),\n",
    "    15: (0, 175, 0),\n",
    "    16: (0, 60, 135),\n",
    "    17: (80, 240, 150),\n",
    "    18: (150, 240, 255),\n",
    "    19: (0, 0, 255),\n",
    "}\n",
    "\n",
    " #Convert class colors to doubles from 0 to 1 as expected by the visualizer\n",
    "for label in COLOR_MAP:\n",
    "  COLOR_MAP[label] = tuple(val/255 for val in COLOR_MAP[label])"
   ]
  },
  {
   "cell_type": "markdown",
   "metadata": {
    "id": "AnNfOhUWCkTM"
   },
   "source": [
    "We then copy the point cloud *downpcd* and convert it to the right data format for Open3D ML inference"
   ]
  },
  {
   "cell_type": "code",
   "execution_count": null,
   "metadata": {
    "id": "9wIGUj7RCH4k"
   },
   "outputs": [],
   "source": [
    "#Making a copy of a previously used pointcloud\n",
    "#Load downpcd from disk (previously written to disk in Section 9.1)\n",
    "SemanticMLPCD = copy.deepcopy(downpcd)\n",
    "\n",
    "#o3d.visualization.draw_plotly([SemanticMLPCD], point_sample_factor=0.1)\n",
    "\n",
    "\n",
    "# Convert pointcloud to dataset\n",
    "SemanticMLPCD.remove_non_finite_points()\n",
    "\n",
    "# Extract xyz points\n",
    "XYZ = np.asarray(SemanticMLPCD.points)\n",
    "\n",
    "#Set the points in the correct format for inference\n",
    "Data = {\"point\":XYZ, 'feat': None, 'label':np.zeros((len(XYZ),), dtype=np.int32)}"
   ]
  },
  {
   "cell_type": "markdown",
   "metadata": {
    "id": "_GxDsGHiCxc3"
   },
   "source": [
    "Now we will load the appropriate pre-trained ML models to use the weights from the model. The model parameters have been pre-defined in the configuration file you downloaded from Open3D-ML.\n",
    "We will also create a **DummyDataset** object to initialize the semantic segmentation pipeline. This will allow us to use the pipeline object for inference on our cloud."
   ]
  },
  {
   "cell_type": "code",
   "execution_count": null,
   "metadata": {
    "id": "Qhi3BSFEC1z-"
   },
   "outputs": [],
   "source": [
    "#Load the RANDLANet model\n",
    "Model = ml3d.models.RandLANet(**cfg.model)\n",
    "\n",
    "# Create a dummy dataset to initialize the Semantic Segmentation Object\n",
    "DummmyDataset = ml3d.datasets.SemanticKITTI(\"/content/drive/My Drive/Data-Processing/\")\n",
    "\n",
    "# Create ML pipeline\n",
    "Pipeline = ml3d.pipelines.SemanticSegmentation(Model, dataset=DummmyDataset, device=\"gpu\", **cfg.pipeline)"
   ]
  },
  {
   "cell_type": "markdown",
   "metadata": {
    "id": "cBfToxfhFrz2"
   },
   "source": [
    "We will download the pre-trained weights and load it as the appropriate pipeline parameter in our **Pipeline** object"
   ]
  },
  {
   "cell_type": "code",
   "execution_count": null,
   "metadata": {
    "id": "fgRL8XuNDo9N"
   },
   "outputs": [],
   "source": [
    "# Download the weights.\n",
    "ckpt_folder = \"./logs/\"\n",
    "os.makedirs(ckpt_folder, exist_ok=True)\n",
    "ckpt_path = ckpt_folder + \"randlanet_semantickitti_202201071330utc.pth\"\n",
    "randlanet_url = \"https://storage.googleapis.com/open3d-releases/model-zoo/randlanet_semantickitti_202201071330utc.pth\"\n",
    "if not os.path.exists(ckpt_path):\n",
    "  cmd = \"wget {} -O {}\".format(randlanet_url, ckpt_path)\n",
    "  os.system(cmd)\n",
    "\n",
    "# Load the parameters of the model.\n",
    "Pipeline.load_ckpt(ckpt_path=ckpt_path)"
   ]
  },
  {
   "cell_type": "markdown",
   "metadata": {
    "id": "M-HMtZHDGDUH"
   },
   "source": [
    "Now we run the inference on our dataset with the weights of the **RandLA Net** model trained on the **Semantic Kitti** dataset. Since Semantic Kitti is a outdoor Autonomous Driving Dataset, the results may or may not generalize to our data."
   ]
  },
  {
   "cell_type": "code",
   "execution_count": null,
   "metadata": {
    "id": "2lYbNucpEWmS"
   },
   "outputs": [],
   "source": [
    "#Run the inference on the data\n",
    "Result = Pipeline.run_inference(Data)"
   ]
  },
  {
   "cell_type": "markdown",
   "metadata": {
    "id": "dc4nY712Gbej"
   },
   "source": [
    "We will assing a color for each predicted label and visualize the resulting cloud."
   ]
  },
  {
   "cell_type": "code",
   "execution_count": null,
   "metadata": {
    "id": "1qudARarEFPF"
   },
   "outputs": [],
   "source": [
    "SemanticColors = [COLOR_MAP[clr] for clr in list(Result['predict_labels'])]\n",
    "SemanticMLPCD.colors = o3d.utility.Vector3dVector(SemanticColors)\n",
    "\n",
    "#Visualize Segmentation\n",
    "o3d.visualization.draw_plotly([SemanticMLPCD], point_sample_factor=0.1)"
   ]
  },
  {
   "cell_type": "markdown",
   "metadata": {
    "id": "5VFk2hr93i79"
   },
   "source": [
    "# Appendix - Backup Section to re-produce downpcd\n",
    "\n",
    "This section is only there so that you can re-produce the downpcd point cloud quickly with a single script"
   ]
  },
  {
   "cell_type": "code",
   "execution_count": 54,
   "metadata": {
    "colab": {
     "base_uri": "https://localhost:8080/"
    },
    "executionInfo": {
     "elapsed": 16583,
     "status": "ok",
     "timestamp": 1688369069951,
     "user": {
      "displayName": "Frédéric Bosché",
      "userId": "08198239712936543179"
     },
     "user_tz": -330
    },
    "id": "suEiqJAtUcN7",
    "outputId": "10b6781e-7fb7-4204-826f-67c4531d3900"
   },
   "outputs": [
    {
     "name": "stdout",
     "output_type": "stream",
     "text": [
      "Requirement already satisfied: open3d in c:\\programdata\\anaconda3\\lib\\site-packages (0.18.0)\n",
      "Requirement already satisfied: numpy>=1.18.0 in c:\\programdata\\anaconda3\\lib\\site-packages (from open3d) (1.24.3)\n",
      "Requirement already satisfied: dash>=2.6.0 in c:\\programdata\\anaconda3\\lib\\site-packages (from open3d) (2.15.0)\n",
      "Requirement already satisfied: werkzeug>=2.2.3 in c:\\programdata\\anaconda3\\lib\\site-packages (from open3d) (2.2.3)\n",
      "Requirement already satisfied: nbformat>=5.7.0 in c:\\programdata\\anaconda3\\lib\\site-packages (from open3d) (5.7.0)\n",
      "Requirement already satisfied: configargparse in c:\\programdata\\anaconda3\\lib\\site-packages (from open3d) (1.7)\n",
      "Requirement already satisfied: ipywidgets>=8.0.4 in c:\\programdata\\anaconda3\\lib\\site-packages (from open3d) (8.0.4)\n",
      "Requirement already satisfied: Flask<3.1,>=1.0.4 in c:\\programdata\\anaconda3\\lib\\site-packages (from dash>=2.6.0->open3d) (2.2.2)\n",
      "Requirement already satisfied: plotly>=5.0.0 in c:\\programdata\\anaconda3\\lib\\site-packages (from dash>=2.6.0->open3d) (5.9.0)\n",
      "Requirement already satisfied: dash-html-components==2.0.0 in c:\\programdata\\anaconda3\\lib\\site-packages (from dash>=2.6.0->open3d) (2.0.0)\n",
      "Requirement already satisfied: dash-core-components==2.0.0 in c:\\programdata\\anaconda3\\lib\\site-packages (from dash>=2.6.0->open3d) (2.0.0)\n",
      "Requirement already satisfied: dash-table==5.0.0 in c:\\programdata\\anaconda3\\lib\\site-packages (from dash>=2.6.0->open3d) (5.0.0)\n",
      "Requirement already satisfied: typing-extensions>=4.1.1 in c:\\programdata\\anaconda3\\lib\\site-packages (from dash>=2.6.0->open3d) (4.7.1)\n",
      "Requirement already satisfied: requests in c:\\programdata\\anaconda3\\lib\\site-packages (from dash>=2.6.0->open3d) (2.31.0)\n",
      "Requirement already satisfied: retrying in c:\\programdata\\anaconda3\\lib\\site-packages (from dash>=2.6.0->open3d) (1.3.4)\n",
      "Requirement already satisfied: nest-asyncio in c:\\programdata\\anaconda3\\lib\\site-packages (from dash>=2.6.0->open3d) (1.5.6)\n",
      "Requirement already satisfied: setuptools in c:\\programdata\\anaconda3\\lib\\site-packages (from dash>=2.6.0->open3d) (68.0.0)\n",
      "Requirement already satisfied: importlib-metadata in c:\\programdata\\anaconda3\\lib\\site-packages (from dash>=2.6.0->open3d) (6.0.0)\n",
      "Requirement already satisfied: ipykernel>=4.5.1 in c:\\programdata\\anaconda3\\lib\\site-packages (from ipywidgets>=8.0.4->open3d) (6.19.2)\n",
      "Requirement already satisfied: ipython>=6.1.0 in c:\\programdata\\anaconda3\\lib\\site-packages (from ipywidgets>=8.0.4->open3d) (8.12.0)\n",
      "Requirement already satisfied: traitlets>=4.3.1 in c:\\programdata\\anaconda3\\lib\\site-packages (from ipywidgets>=8.0.4->open3d) (5.7.1)\n",
      "Requirement already satisfied: widgetsnbextension~=4.0 in c:\\programdata\\anaconda3\\lib\\site-packages (from ipywidgets>=8.0.4->open3d) (4.0.5)\n",
      "Requirement already satisfied: jupyterlab-widgets~=3.0 in c:\\programdata\\anaconda3\\lib\\site-packages (from ipywidgets>=8.0.4->open3d) (3.0.5)\n",
      "Requirement already satisfied: fastjsonschema in c:\\programdata\\anaconda3\\lib\\site-packages (from nbformat>=5.7.0->open3d) (2.16.2)\n",
      "Requirement already satisfied: jsonschema>=2.6 in c:\\programdata\\anaconda3\\lib\\site-packages (from nbformat>=5.7.0->open3d) (4.17.3)\n",
      "Requirement already satisfied: jupyter-core in c:\\programdata\\anaconda3\\lib\\site-packages (from nbformat>=5.7.0->open3d) (5.3.0)\n",
      "Requirement already satisfied: MarkupSafe>=2.1.1 in c:\\programdata\\anaconda3\\lib\\site-packages (from werkzeug>=2.2.3->open3d) (2.1.1)\n",
      "Requirement already satisfied: Jinja2>=3.0 in c:\\programdata\\anaconda3\\lib\\site-packages (from Flask<3.1,>=1.0.4->dash>=2.6.0->open3d) (3.1.2)\n",
      "Requirement already satisfied: itsdangerous>=2.0 in c:\\programdata\\anaconda3\\lib\\site-packages (from Flask<3.1,>=1.0.4->dash>=2.6.0->open3d) (2.0.1)\n",
      "Requirement already satisfied: click>=8.0 in c:\\programdata\\anaconda3\\lib\\site-packages (from Flask<3.1,>=1.0.4->dash>=2.6.0->open3d) (8.0.4)\n",
      "Requirement already satisfied: comm>=0.1.1 in c:\\programdata\\anaconda3\\lib\\site-packages (from ipykernel>=4.5.1->ipywidgets>=8.0.4->open3d) (0.1.2)\n",
      "Requirement already satisfied: debugpy>=1.0 in c:\\programdata\\anaconda3\\lib\\site-packages (from ipykernel>=4.5.1->ipywidgets>=8.0.4->open3d) (1.6.7)\n",
      "Requirement already satisfied: jupyter-client>=6.1.12 in c:\\programdata\\anaconda3\\lib\\site-packages (from ipykernel>=4.5.1->ipywidgets>=8.0.4->open3d) (7.4.9)\n",
      "Requirement already satisfied: matplotlib-inline>=0.1 in c:\\programdata\\anaconda3\\lib\\site-packages (from ipykernel>=4.5.1->ipywidgets>=8.0.4->open3d) (0.1.6)\n",
      "Requirement already satisfied: packaging in c:\\programdata\\anaconda3\\lib\\site-packages (from ipykernel>=4.5.1->ipywidgets>=8.0.4->open3d) (23.0)\n",
      "Requirement already satisfied: psutil in c:\\programdata\\anaconda3\\lib\\site-packages (from ipykernel>=4.5.1->ipywidgets>=8.0.4->open3d) (5.9.0)\n",
      "Requirement already satisfied: pyzmq>=17 in c:\\programdata\\anaconda3\\lib\\site-packages (from ipykernel>=4.5.1->ipywidgets>=8.0.4->open3d) (23.2.0)\n",
      "Requirement already satisfied: tornado>=6.1 in c:\\programdata\\anaconda3\\lib\\site-packages (from ipykernel>=4.5.1->ipywidgets>=8.0.4->open3d) (6.3.2)\n",
      "Requirement already satisfied: backcall in c:\\programdata\\anaconda3\\lib\\site-packages (from ipython>=6.1.0->ipywidgets>=8.0.4->open3d) (0.2.0)\n",
      "Requirement already satisfied: decorator in c:\\programdata\\anaconda3\\lib\\site-packages (from ipython>=6.1.0->ipywidgets>=8.0.4->open3d) (5.1.1)\n",
      "Requirement already satisfied: jedi>=0.16 in c:\\programdata\\anaconda3\\lib\\site-packages (from ipython>=6.1.0->ipywidgets>=8.0.4->open3d) (0.18.1)\n",
      "Requirement already satisfied: pickleshare in c:\\programdata\\anaconda3\\lib\\site-packages (from ipython>=6.1.0->ipywidgets>=8.0.4->open3d) (0.7.5)\n",
      "Requirement already satisfied: prompt-toolkit!=3.0.37,<3.1.0,>=3.0.30 in c:\\programdata\\anaconda3\\lib\\site-packages (from ipython>=6.1.0->ipywidgets>=8.0.4->open3d) (3.0.36)\n",
      "Requirement already satisfied: pygments>=2.4.0 in c:\\programdata\\anaconda3\\lib\\site-packages (from ipython>=6.1.0->ipywidgets>=8.0.4->open3d) (2.15.1)\n",
      "Requirement already satisfied: stack-data in c:\\programdata\\anaconda3\\lib\\site-packages (from ipython>=6.1.0->ipywidgets>=8.0.4->open3d) (0.2.0)\n",
      "Requirement already satisfied: colorama in c:\\programdata\\anaconda3\\lib\\site-packages (from ipython>=6.1.0->ipywidgets>=8.0.4->open3d) (0.4.6)\n",
      "Requirement already satisfied: attrs>=17.4.0 in c:\\programdata\\anaconda3\\lib\\site-packages (from jsonschema>=2.6->nbformat>=5.7.0->open3d) (22.1.0)\n",
      "Requirement already satisfied: pyrsistent!=0.17.0,!=0.17.1,!=0.17.2,>=0.14.0 in c:\\programdata\\anaconda3\\lib\\site-packages (from jsonschema>=2.6->nbformat>=5.7.0->open3d) (0.18.0)\n",
      "Requirement already satisfied: tenacity>=6.2.0 in c:\\programdata\\anaconda3\\lib\\site-packages (from plotly>=5.0.0->dash>=2.6.0->open3d) (8.2.2)\n",
      "Requirement already satisfied: zipp>=0.5 in c:\\programdata\\anaconda3\\lib\\site-packages (from importlib-metadata->dash>=2.6.0->open3d) (3.11.0)\n",
      "Requirement already satisfied: platformdirs>=2.5 in c:\\programdata\\anaconda3\\lib\\site-packages (from jupyter-core->nbformat>=5.7.0->open3d) (2.5.2)\n",
      "Requirement already satisfied: pywin32>=300 in c:\\programdata\\anaconda3\\lib\\site-packages (from jupyter-core->nbformat>=5.7.0->open3d) (305.1)\n",
      "Requirement already satisfied: charset-normalizer<4,>=2 in c:\\programdata\\anaconda3\\lib\\site-packages (from requests->dash>=2.6.0->open3d) (2.0.4)\n",
      "Requirement already satisfied: idna<4,>=2.5 in c:\\programdata\\anaconda3\\lib\\site-packages (from requests->dash>=2.6.0->open3d) (3.4)\n",
      "Requirement already satisfied: urllib3<3,>=1.21.1 in c:\\programdata\\anaconda3\\lib\\site-packages (from requests->dash>=2.6.0->open3d) (1.26.16)\n",
      "Requirement already satisfied: certifi>=2017.4.17 in c:\\programdata\\anaconda3\\lib\\site-packages (from requests->dash>=2.6.0->open3d) (2024.2.2)\n",
      "Requirement already satisfied: six>=1.7.0 in c:\\programdata\\anaconda3\\lib\\site-packages (from retrying->dash>=2.6.0->open3d) (1.16.0)\n",
      "Requirement already satisfied: parso<0.9.0,>=0.8.0 in c:\\programdata\\anaconda3\\lib\\site-packages (from jedi>=0.16->ipython>=6.1.0->ipywidgets>=8.0.4->open3d) (0.8.3)\n",
      "Requirement already satisfied: entrypoints in c:\\programdata\\anaconda3\\lib\\site-packages (from jupyter-client>=6.1.12->ipykernel>=4.5.1->ipywidgets>=8.0.4->open3d) (0.4)\n",
      "Requirement already satisfied: python-dateutil>=2.8.2 in c:\\programdata\\anaconda3\\lib\\site-packages (from jupyter-client>=6.1.12->ipykernel>=4.5.1->ipywidgets>=8.0.4->open3d) (2.8.2)\n",
      "Requirement already satisfied: wcwidth in c:\\programdata\\anaconda3\\lib\\site-packages (from prompt-toolkit!=3.0.37,<3.1.0,>=3.0.30->ipython>=6.1.0->ipywidgets>=8.0.4->open3d) (0.2.5)\n",
      "Requirement already satisfied: executing in c:\\programdata\\anaconda3\\lib\\site-packages (from stack-data->ipython>=6.1.0->ipywidgets>=8.0.4->open3d) (0.8.3)\n",
      "Requirement already satisfied: asttokens in c:\\programdata\\anaconda3\\lib\\site-packages (from stack-data->ipython>=6.1.0->ipywidgets>=8.0.4->open3d) (2.0.5)\n",
      "Requirement already satisfied: pure-eval in c:\\programdata\\anaconda3\\lib\\site-packages (from stack-data->ipython>=6.1.0->ipywidgets>=8.0.4->open3d) (0.2.2)\n",
      "Load a PLY point cloud located in Google Drive\n"
     ]
    },
    {
     "name": "stdout",
     "output_type": "stream",
     "text": [
      "PointCloud with 3633036 points.\n",
      "[[-10028.33203125   4039.9140625      82.96264648]\n",
      " [-10010.67773438   4047.00488281     85.96264648]\n",
      " [-10032.67382812   4044.51513672     92.96264648]\n",
      " ...\n",
      " [  1632.5546875    -612.98535156   2749.96264648]\n",
      " [  1629.15234375   -622.28222656   2759.96264648]\n",
      " [  1630.21875      -631.70898438   2752.96264648]]\n",
      "Setting parameter storing whether the data is in millimeters or meters\n",
      "Downsampling point cloud\n",
      "PointCloud with 3633036 points.\n",
      "PointCloud with 1622720 points.\n",
      "Calculating point normals\n"
     ]
    }
   ],
   "source": [
    "# REMOVE THIS BLOCK ONCE EVERYTHING IS CHECKED TO BE WORKING.\n",
    "!pip install open3d\n",
    "\n",
    "import numpy as np\n",
    "import copy\n",
    "import open3d as o3d\n",
    "#import os\n",
    "#assert int(os.environ['COLAB_GPU'])==1, 'Make sure to select GPU from Edit > Notebook settings > Hardware accelerator'\n",
    "import matplotlib.pyplot as plt\n",
    "\n",
    "print(\"Load a PLY point cloud located in Google Drive\")\n",
    "\n",
    "pcd = o3d.io.read_point_cloud(path_ply)\n",
    "\n",
    "print(pcd)\n",
    "\n",
    "print(np.asarray(pcd.points))\n",
    "\n",
    "\n",
    "print(\"Setting parameter storing whether the data is in millimeters or meters\")\n",
    "\n",
    "unitsInMeters = False  # millimeters\n",
    "\n",
    "\n",
    "print (\"Downsampling point cloud\")\n",
    "\n",
    "if unitsInMeters == True :\n",
    "    my_voxel_size = 0.02\n",
    "else :\n",
    "    my_voxel_size = 20.0\n",
    "\n",
    "downpcd = pcd.voxel_down_sample(voxel_size = my_voxel_size)\n",
    "\n",
    "print(pcd)\n",
    "print(downpcd)\n",
    "\n",
    "\n",
    "print (\"Calculating point normals\")\n",
    "if unitsInMeters == True :\n",
    "    my_radius = 0.05\n",
    "else :\n",
    "    my_radius = 50.0\n",
    "\n",
    "downpcd.estimate_normals(\n",
    "    search_param=o3d.geometry.KDTreeSearchParamHybrid(radius=my_radius, max_nn=30))\n",
    "\n",
    "\n",
    "assert (downpcd.has_normals()), \"Point cloud should have normals, but doesn't\"\n"
   ]
  },
  {
   "cell_type": "code",
   "execution_count": null,
   "metadata": {},
   "outputs": [],
   "source": []
  }
 ],
 "metadata": {
  "accelerator": "GPU",
  "colab": {
   "name": "",
   "toc_visible": true,
   "version": ""
  },
  "kernelspec": {
   "display_name": "Python 3 (ipykernel)",
   "language": "python",
   "name": "python3"
  },
  "language_info": {
   "codemirror_mode": {
    "name": "ipython",
    "version": 3
   },
   "file_extension": ".py",
   "mimetype": "text/x-python",
   "name": "python",
   "nbconvert_exporter": "python",
   "pygments_lexer": "ipython3",
   "version": "3.11.4"
  }
 },
 "nbformat": 4,
 "nbformat_minor": 1
}
